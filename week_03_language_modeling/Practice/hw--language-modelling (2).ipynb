{
  "metadata": {
    "kernelspec": {
      "name": "python3",
      "display_name": "Python 3",
      "language": "python"
    },
    "language_info": {
      "name": "python",
      "version": "3.11.13",
      "mimetype": "text/x-python",
      "codemirror_mode": {
        "name": "ipython",
        "version": 3
      },
      "pygments_lexer": "ipython3",
      "nbconvert_exporter": "python",
      "file_extension": ".py"
    },
    "accelerator": "GPU",
    "colab": {
      "provenance": []
    },
    "gpuClass": "standard",
    "kaggle": {
      "accelerator": "nvidiaTeslaT4",
      "dataSources": [],
      "dockerImageVersionId": 31090,
      "isInternetEnabled": true,
      "language": "python",
      "sourceType": "notebook",
      "isGpuEnabled": true
    }
  },
  "nbformat_minor": 4,
  "nbformat": 4,
  "cells": [
    {
      "cell_type": "markdown",
      "source": "<p style=\"align: center;\"><img src=\"https://static.tildacdn.com/tild6636-3531-4239-b465-376364646465/Deep_Learning_School.png\" width=\"400\"></p>\n\n# Домашнее задание. Обучение языковой модели с помощью LSTM (10 баллов)",
      "metadata": {
        "id": "d0ADTojbpfLt"
      }
    },
    {
      "cell_type": "markdown",
      "source": "Э\nВ этом задании Вам предстоит обучить языковую модель с помощью рекуррентной нейронной сети. В отличие от семинарского занятия, Вам необходимо будет работать с отдельными словами, а не буквами.\n\n\nУстановим модуль ```datasets```, чтобы нам проще было работать с данными.",
      "metadata": {
        "id": "ldHSmYY6p_mZ"
      }
    },
    {
      "cell_type": "code",
      "source": "!pip install datasets",
      "metadata": {
        "id": "3yvNdv6cp_0P",
        "colab": {
          "base_uri": "https://localhost:8080/"
        },
        "outputId": "729aa736-45f2-4c22-df9a-33a192fb92d7",
        "trusted": true,
        "execution": {
          "iopub.status.busy": "2025-10-02T20:33:42.324219Z",
          "iopub.execute_input": "2025-10-02T20:33:42.324443Z",
          "iopub.status.idle": "2025-10-02T20:33:49.107308Z",
          "shell.execute_reply.started": "2025-10-02T20:33:42.324413Z",
          "shell.execute_reply": "2025-10-02T20:33:49.106543Z"
        }
      },
      "outputs": [
        {
          "name": "stdout",
          "text": "Requirement already satisfied: datasets in /usr/local/lib/python3.11/dist-packages (3.6.0)\nRequirement already satisfied: filelock in /usr/local/lib/python3.11/dist-packages (from datasets) (3.18.0)\nRequirement already satisfied: numpy>=1.17 in /usr/local/lib/python3.11/dist-packages (from datasets) (1.26.4)\nRequirement already satisfied: pyarrow>=15.0.0 in /usr/local/lib/python3.11/dist-packages (from datasets) (19.0.1)\nRequirement already satisfied: dill<0.3.9,>=0.3.0 in /usr/local/lib/python3.11/dist-packages (from datasets) (0.3.8)\nRequirement already satisfied: pandas in /usr/local/lib/python3.11/dist-packages (from datasets) (2.2.3)\nRequirement already satisfied: requests>=2.32.2 in /usr/local/lib/python3.11/dist-packages (from datasets) (2.32.4)\nRequirement already satisfied: tqdm>=4.66.3 in /usr/local/lib/python3.11/dist-packages (from datasets) (4.67.1)\nRequirement already satisfied: xxhash in /usr/local/lib/python3.11/dist-packages (from datasets) (3.5.0)\nRequirement already satisfied: multiprocess<0.70.17 in /usr/local/lib/python3.11/dist-packages (from datasets) (0.70.16)\nCollecting fsspec<=2025.3.0,>=2023.1.0 (from fsspec[http]<=2025.3.0,>=2023.1.0->datasets)\n  Downloading fsspec-2025.3.0-py3-none-any.whl.metadata (11 kB)\nRequirement already satisfied: huggingface-hub>=0.24.0 in /usr/local/lib/python3.11/dist-packages (from datasets) (0.33.1)\nRequirement already satisfied: packaging in /usr/local/lib/python3.11/dist-packages (from datasets) (25.0)\nRequirement already satisfied: pyyaml>=5.1 in /usr/local/lib/python3.11/dist-packages (from datasets) (6.0.2)\nRequirement already satisfied: aiohttp!=4.0.0a0,!=4.0.0a1 in /usr/local/lib/python3.11/dist-packages (from fsspec[http]<=2025.3.0,>=2023.1.0->datasets) (3.12.13)\nRequirement already satisfied: typing-extensions>=3.7.4.3 in /usr/local/lib/python3.11/dist-packages (from huggingface-hub>=0.24.0->datasets) (4.14.0)\nRequirement already satisfied: hf-xet<2.0.0,>=1.1.2 in /usr/local/lib/python3.11/dist-packages (from huggingface-hub>=0.24.0->datasets) (1.1.5)\nRequirement already satisfied: mkl_fft in /usr/local/lib/python3.11/dist-packages (from numpy>=1.17->datasets) (1.3.8)\nRequirement already satisfied: mkl_random in /usr/local/lib/python3.11/dist-packages (from numpy>=1.17->datasets) (1.2.4)\nRequirement already satisfied: mkl_umath in /usr/local/lib/python3.11/dist-packages (from numpy>=1.17->datasets) (0.1.1)\nRequirement already satisfied: mkl in /usr/local/lib/python3.11/dist-packages (from numpy>=1.17->datasets) (2025.2.0)\nRequirement already satisfied: tbb4py in /usr/local/lib/python3.11/dist-packages (from numpy>=1.17->datasets) (2022.2.0)\nRequirement already satisfied: mkl-service in /usr/local/lib/python3.11/dist-packages (from numpy>=1.17->datasets) (2.4.1)\nRequirement already satisfied: charset_normalizer<4,>=2 in /usr/local/lib/python3.11/dist-packages (from requests>=2.32.2->datasets) (3.4.2)\nRequirement already satisfied: idna<4,>=2.5 in /usr/local/lib/python3.11/dist-packages (from requests>=2.32.2->datasets) (3.10)\nRequirement already satisfied: urllib3<3,>=1.21.1 in /usr/local/lib/python3.11/dist-packages (from requests>=2.32.2->datasets) (2.5.0)\nRequirement already satisfied: certifi>=2017.4.17 in /usr/local/lib/python3.11/dist-packages (from requests>=2.32.2->datasets) (2025.6.15)\nRequirement already satisfied: python-dateutil>=2.8.2 in /usr/local/lib/python3.11/dist-packages (from pandas->datasets) (2.9.0.post0)\nRequirement already satisfied: pytz>=2020.1 in /usr/local/lib/python3.11/dist-packages (from pandas->datasets) (2025.2)\nRequirement already satisfied: tzdata>=2022.7 in /usr/local/lib/python3.11/dist-packages (from pandas->datasets) (2025.2)\nRequirement already satisfied: aiohappyeyeballs>=2.5.0 in /usr/local/lib/python3.11/dist-packages (from aiohttp!=4.0.0a0,!=4.0.0a1->fsspec[http]<=2025.3.0,>=2023.1.0->datasets) (2.6.1)\nRequirement already satisfied: aiosignal>=1.1.2 in /usr/local/lib/python3.11/dist-packages (from aiohttp!=4.0.0a0,!=4.0.0a1->fsspec[http]<=2025.3.0,>=2023.1.0->datasets) (1.3.2)\nRequirement already satisfied: attrs>=17.3.0 in /usr/local/lib/python3.11/dist-packages (from aiohttp!=4.0.0a0,!=4.0.0a1->fsspec[http]<=2025.3.0,>=2023.1.0->datasets) (25.3.0)\nRequirement already satisfied: frozenlist>=1.1.1 in /usr/local/lib/python3.11/dist-packages (from aiohttp!=4.0.0a0,!=4.0.0a1->fsspec[http]<=2025.3.0,>=2023.1.0->datasets) (1.7.0)\nRequirement already satisfied: multidict<7.0,>=4.5 in /usr/local/lib/python3.11/dist-packages (from aiohttp!=4.0.0a0,!=4.0.0a1->fsspec[http]<=2025.3.0,>=2023.1.0->datasets) (6.6.3)\nRequirement already satisfied: propcache>=0.2.0 in /usr/local/lib/python3.11/dist-packages (from aiohttp!=4.0.0a0,!=4.0.0a1->fsspec[http]<=2025.3.0,>=2023.1.0->datasets) (0.3.2)\nRequirement already satisfied: yarl<2.0,>=1.17.0 in /usr/local/lib/python3.11/dist-packages (from aiohttp!=4.0.0a0,!=4.0.0a1->fsspec[http]<=2025.3.0,>=2023.1.0->datasets) (1.20.1)\nRequirement already satisfied: six>=1.5 in /usr/local/lib/python3.11/dist-packages (from python-dateutil>=2.8.2->pandas->datasets) (1.17.0)\nRequirement already satisfied: intel-openmp<2026,>=2024 in /usr/local/lib/python3.11/dist-packages (from mkl->numpy>=1.17->datasets) (2024.2.0)\nRequirement already satisfied: tbb==2022.* in /usr/local/lib/python3.11/dist-packages (from mkl->numpy>=1.17->datasets) (2022.2.0)\nRequirement already satisfied: tcmlib==1.* in /usr/local/lib/python3.11/dist-packages (from tbb==2022.*->mkl->numpy>=1.17->datasets) (1.4.0)\nRequirement already satisfied: intel-cmplr-lib-rt in /usr/local/lib/python3.11/dist-packages (from mkl_umath->numpy>=1.17->datasets) (2024.2.0)\nRequirement already satisfied: intel-cmplr-lib-ur==2024.2.0 in /usr/local/lib/python3.11/dist-packages (from intel-openmp<2026,>=2024->mkl->numpy>=1.17->datasets) (2024.2.0)\nDownloading fsspec-2025.3.0-py3-none-any.whl (193 kB)\n\u001b[2K   \u001b[90m━━━━━━━━━━━━━━━━━━━━━━━━━━━━━━━━━━━━━━━━\u001b[0m \u001b[32m193.6/193.6 kB\u001b[0m \u001b[31m4.0 MB/s\u001b[0m eta \u001b[36m0:00:00\u001b[0ma \u001b[36m0:00:01\u001b[0m\n\u001b[?25hInstalling collected packages: fsspec\n  Attempting uninstall: fsspec\n    Found existing installation: fsspec 2025.5.1\n    Uninstalling fsspec-2025.5.1:\n      Successfully uninstalled fsspec-2025.5.1\n\u001b[31mERROR: pip's dependency resolver does not currently take into account all the packages that are installed. This behaviour is the source of the following dependency conflicts.\nbigframes 2.8.0 requires google-cloud-bigquery-storage<3.0.0,>=2.30.0, which is not installed.\ncesium 0.12.4 requires numpy<3.0,>=2.0, but you have numpy 1.26.4 which is incompatible.\ntorch 2.6.0+cu124 requires nvidia-cublas-cu12==12.4.5.8; platform_system == \"Linux\" and platform_machine == \"x86_64\", but you have nvidia-cublas-cu12 12.5.3.2 which is incompatible.\ntorch 2.6.0+cu124 requires nvidia-cuda-cupti-cu12==12.4.127; platform_system == \"Linux\" and platform_machine == \"x86_64\", but you have nvidia-cuda-cupti-cu12 12.5.82 which is incompatible.\ntorch 2.6.0+cu124 requires nvidia-cuda-nvrtc-cu12==12.4.127; platform_system == \"Linux\" and platform_machine == \"x86_64\", but you have nvidia-cuda-nvrtc-cu12 12.5.82 which is incompatible.\ntorch 2.6.0+cu124 requires nvidia-cuda-runtime-cu12==12.4.127; platform_system == \"Linux\" and platform_machine == \"x86_64\", but you have nvidia-cuda-runtime-cu12 12.5.82 which is incompatible.\ntorch 2.6.0+cu124 requires nvidia-cudnn-cu12==9.1.0.70; platform_system == \"Linux\" and platform_machine == \"x86_64\", but you have nvidia-cudnn-cu12 9.3.0.75 which is incompatible.\ntorch 2.6.0+cu124 requires nvidia-cufft-cu12==11.2.1.3; platform_system == \"Linux\" and platform_machine == \"x86_64\", but you have nvidia-cufft-cu12 11.2.3.61 which is incompatible.\ntorch 2.6.0+cu124 requires nvidia-curand-cu12==10.3.5.147; platform_system == \"Linux\" and platform_machine == \"x86_64\", but you have nvidia-curand-cu12 10.3.6.82 which is incompatible.\ntorch 2.6.0+cu124 requires nvidia-cusolver-cu12==11.6.1.9; platform_system == \"Linux\" and platform_machine == \"x86_64\", but you have nvidia-cusolver-cu12 11.6.3.83 which is incompatible.\ntorch 2.6.0+cu124 requires nvidia-cusparse-cu12==12.3.1.170; platform_system == \"Linux\" and platform_machine == \"x86_64\", but you have nvidia-cusparse-cu12 12.5.1.3 which is incompatible.\ntorch 2.6.0+cu124 requires nvidia-nvjitlink-cu12==12.4.127; platform_system == \"Linux\" and platform_machine == \"x86_64\", but you have nvidia-nvjitlink-cu12 12.5.82 which is incompatible.\ngcsfs 2025.3.2 requires fsspec==2025.3.2, but you have fsspec 2025.3.0 which is incompatible.\nbigframes 2.8.0 requires google-cloud-bigquery[bqstorage,pandas]>=3.31.0, but you have google-cloud-bigquery 3.25.0 which is incompatible.\nbigframes 2.8.0 requires rich<14,>=12.4.4, but you have rich 14.0.0 which is incompatible.\u001b[0m\u001b[31m\n\u001b[0mSuccessfully installed fsspec-2025.3.0\n",
          "output_type": "stream"
        }
      ],
      "execution_count": 1
    },
    {
      "cell_type": "markdown",
      "source": "Импорт необходимых библиотек",
      "metadata": {
        "id": "rh9ZXSeCpng9"
      }
    },
    {
      "cell_type": "code",
      "source": "import torch\nimport torch.nn as nn\nfrom torch.utils.data import Dataset, DataLoader\n\nimport numpy as np\nimport matplotlib.pyplot as plt\n\nfrom tqdm.auto import tqdm\nfrom datasets import load_dataset\nfrom nltk.tokenize import sent_tokenize, word_tokenize\nfrom sklearn.model_selection import train_test_split\nimport nltk\n\nfrom collections import Counter\nfrom typing import List\n\nimport seaborn\nseaborn.set(palette='summer')",
      "metadata": {
        "id": "XOJi16bLpd_O",
        "trusted": true,
        "execution": {
          "iopub.status.busy": "2025-10-02T20:34:22.640352Z",
          "iopub.execute_input": "2025-10-02T20:34:22.640633Z",
          "iopub.status.idle": "2025-10-02T20:34:33.898018Z",
          "shell.execute_reply.started": "2025-10-02T20:34:22.640602Z",
          "shell.execute_reply": "2025-10-02T20:34:33.897425Z"
        }
      },
      "outputs": [],
      "execution_count": 2
    },
    {
      "cell_type": "code",
      "source": "nltk.download('punkt')\nnltk.download('punkt_tab')",
      "metadata": {
        "id": "91JuM0SQvXud",
        "colab": {
          "base_uri": "https://localhost:8080/"
        },
        "outputId": "4a11d554-de1e-4326-e792-e9192e8661a1",
        "trusted": true,
        "execution": {
          "iopub.status.busy": "2025-10-02T20:34:37.097315Z",
          "iopub.execute_input": "2025-10-02T20:34:37.098174Z",
          "iopub.status.idle": "2025-10-02T20:34:37.448537Z",
          "shell.execute_reply.started": "2025-10-02T20:34:37.098147Z",
          "shell.execute_reply": "2025-10-02T20:34:37.447895Z"
        }
      },
      "outputs": [
        {
          "name": "stderr",
          "text": "[nltk_data] Downloading package punkt to /usr/share/nltk_data...\n[nltk_data]   Package punkt is already up-to-date!\n[nltk_data] Downloading package punkt_tab to /usr/share/nltk_data...\n[nltk_data]   Package punkt_tab is already up-to-date!\n",
          "output_type": "stream"
        },
        {
          "execution_count": 3,
          "output_type": "execute_result",
          "data": {
            "text/plain": "True"
          },
          "metadata": {}
        }
      ],
      "execution_count": 3
    },
    {
      "cell_type": "code",
      "source": "device = 'cuda' if torch.cuda.is_available() else 'cpu'\ndevice",
      "metadata": {
        "id": "adJC8ShFq9HM",
        "colab": {
          "base_uri": "https://localhost:8080/",
          "height": 36
        },
        "outputId": "5b7032b0-c65e-4d26-efa4-0926c9f0fa51",
        "trusted": true,
        "execution": {
          "iopub.status.busy": "2025-10-02T20:34:40.251359Z",
          "iopub.execute_input": "2025-10-02T20:34:40.251663Z",
          "iopub.status.idle": "2025-10-02T20:34:40.344740Z",
          "shell.execute_reply.started": "2025-10-02T20:34:40.251640Z",
          "shell.execute_reply": "2025-10-02T20:34:40.344024Z"
        }
      },
      "outputs": [
        {
          "execution_count": 4,
          "output_type": "execute_result",
          "data": {
            "text/plain": "'cuda'"
          },
          "metadata": {}
        }
      ],
      "execution_count": 4
    },
    {
      "cell_type": "markdown",
      "source": "## Подготовка данных\n\nВоспользуемся датасетом imdb. В нем хранятся отзывы о фильмах с сайта imdb. Загрузим данные с помощью функции ```load_dataset```",
      "metadata": {
        "id": "pwsfS1ENq5ig"
      }
    },
    {
      "cell_type": "code",
      "source": "# Загрузим датасет\ndataset = load_dataset('imdb')",
      "metadata": {
        "id": "qHLNWOfJqSfc",
        "colab": {
          "base_uri": "https://localhost:8080/",
          "height": 449,
          "referenced_widgets": [
            "0607147eba2a4d73860c50caea1ff0a3",
            "70a27f906629487bbc6716de72281c3d",
            "033783d285124c048aed373c4c1b5e34",
            "23bc28ed7bf44de98c5882e1ff41a0fe",
            "9d8b44f5d9d64bab956e6eb572eb83cb",
            "e5b10ba8a3b24ff38d915eda81037ea9",
            "b866eb7abd504f5fbe4f1018d95158ae",
            "f0085545f9a14ffb86792f61abccafbe",
            "f2a3272a78424244a656f1888cbc7cb4",
            "2cebffabdf544ba6a6fef6189da17240",
            "d53aa88ce07e43c5a71729a47cbbf663",
            "cff7a54f8c5642aeb16bdcbed4b2113a",
            "17cd922789f8448bbbdcd9cf54030095",
            "1a2ed753042b4726a743298a162796c9",
            "c0e7244cc2594c869fad40444f7e24be",
            "6b793128bde54cd4a526975a626f0e32",
            "d9455476b42c412c94dd2ff407058665",
            "477c4cb60d504044a2d0f548c1facf1f",
            "3ca8eef535b64374b8040c2c13e1c7a2",
            "0d60ecc9a6984c04883e04be10171283",
            "a14eaee9408e488d80eb2d43ae1c3f5d",
            "53cd0a8cddf44ad7ba1d4ccfd45f65a2",
            "16f71f36d6fb4f25af815ef49b29b457",
            "d8166cf607344a0d905fdf4d8802d3cf",
            "a21d6776b93848caaf7a673c577c8f6a",
            "fc8512e591ce485bb0f27829d329cba3",
            "df52ceb075934a78aebb7bce9dbdb1a1",
            "8ffeb87f844c4ca4ba6ca97b2c710053",
            "6008ba7db40546458e6434371a463212",
            "e48786a8e0fe463f9f596c8d0ce6f466",
            "6d6feb5434e246948f8e8e59f40f4bae",
            "e24ac384092d472c972de5521ab9910c",
            "01e604feb073440bbf85634b8b4c514b",
            "23121ce6616d4d2fabd3d2cc35673514",
            "e659197e3c474f058c421486c2a8c484",
            "dfadeb208be84f76be5c8f06deeec681",
            "3b9f679f0e9546cd96b7466c0bba40a0",
            "9e79e2f5566c4263b9c60a2e0604c841",
            "836844f463ca4ed6973cda5bddf9dfd4",
            "3c21839939b4460b91101bac2cde3705",
            "5051883d213a40cb85276dc2c31863ce",
            "3c758f89c39c4a5fab54d35f9b6f390a",
            "9dd21a23cd7b46248c198ebd643723ee",
            "7254f7513652482da0347bf0709f9bd8",
            "b67c160bdbaa4d0099b7d57b2c7ac2a6",
            "ef8419573174436c89c44cd2ab10b11e",
            "2bae815077354c61ade6b3a08795cb2d",
            "a61a20074d334edd8a80160c7b32fc38",
            "efc607ccf83e458eaec76e9becf5c7a8",
            "965d6a31a11145b581ac42fb75c1bd44",
            "3b12c288a0344ef2adec3ff417935e82",
            "57119d26e122446c805a3d7b62eebad0",
            "ac7917fc65504fa6ba957c3c3e6c8c6f",
            "4c13634ae7494d4ba8ef28dcfc17da26",
            "a9338d1905c04647be2594cc07b29e1f",
            "0cdb7ddaa0bb4b40bac0089fb5dc9a66",
            "500bab6f77b44506bf36ce9f7da4b457",
            "c7fa7cc7e461436c843f0cc8334b7338",
            "3e0a8d3b350c49bb9ac4f018e60f4b2b",
            "c1882e1fcc764e8c9e885c9f82447794",
            "c399f5dcbf3846b1883972f08a8766be",
            "435827a2c4cc4be28fe5015565cf026a",
            "dab3317694684210b6a877fe0eaa892d",
            "30b6e1f6ca8d4a3e8c8757ed2f5341bd",
            "24da434051b64dfdbcd31a4fe5b045d1",
            "6c3c1edcf8b746f9b745f90ef72a74be",
            "cc5b735910aa495daee570490867033d",
            "7bb0f848f9384539a3ba4964c62fa42f",
            "5cf856b827ae4360a218b98bec001826",
            "1dd2ce240b1848f587d6222f751582a2",
            "a8398dfa254d4a5abf2de142303446de",
            "5effb9dd91a04b8cb6f7cfbef04aca5f",
            "79fce935b0e748458961449a6bdf0e30",
            "580695ca91744f9b8f0155ea50d9105d",
            "b55623c9a125490f97784b6ad4cc8ff8",
            "3d03cac80c324ab29ff9412288999524",
            "a202401884f44336b689573746106c6f"
          ]
        },
        "outputId": "dffec111-eb9c-40cb-963c-dc2bb38b13a3",
        "trusted": true,
        "execution": {
          "iopub.status.busy": "2025-10-02T20:34:43.090971Z",
          "iopub.execute_input": "2025-10-02T20:34:43.091711Z",
          "iopub.status.idle": "2025-10-02T20:34:49.068424Z",
          "shell.execute_reply.started": "2025-10-02T20:34:43.091685Z",
          "shell.execute_reply": "2025-10-02T20:34:49.067791Z"
        }
      },
      "outputs": [
        {
          "output_type": "display_data",
          "data": {
            "text/plain": "README.md: 0.00B [00:00, ?B/s]",
            "application/vnd.jupyter.widget-view+json": {
              "version_major": 2,
              "version_minor": 0,
              "model_id": "43f105cd13cc4220a6cb056ec7678975"
            }
          },
          "metadata": {}
        },
        {
          "output_type": "display_data",
          "data": {
            "text/plain": "plain_text/train-00000-of-00001.parquet:   0%|          | 0.00/21.0M [00:00<?, ?B/s]",
            "application/vnd.jupyter.widget-view+json": {
              "version_major": 2,
              "version_minor": 0,
              "model_id": "67ac01f752744512bbab4d2505f01222"
            }
          },
          "metadata": {}
        },
        {
          "output_type": "display_data",
          "data": {
            "text/plain": "plain_text/test-00000-of-00001.parquet:   0%|          | 0.00/20.5M [00:00<?, ?B/s]",
            "application/vnd.jupyter.widget-view+json": {
              "version_major": 2,
              "version_minor": 0,
              "model_id": "3a4f10552d094c9893b385624bc73592"
            }
          },
          "metadata": {}
        },
        {
          "output_type": "display_data",
          "data": {
            "text/plain": "plain_text/unsupervised-00000-of-00001.p(…):   0%|          | 0.00/42.0M [00:00<?, ?B/s]",
            "application/vnd.jupyter.widget-view+json": {
              "version_major": 2,
              "version_minor": 0,
              "model_id": "e941a7a9320d44f69f8f7defb2fd903e"
            }
          },
          "metadata": {}
        },
        {
          "output_type": "display_data",
          "data": {
            "text/plain": "Generating train split:   0%|          | 0/25000 [00:00<?, ? examples/s]",
            "application/vnd.jupyter.widget-view+json": {
              "version_major": 2,
              "version_minor": 0,
              "model_id": "4ee72712bf3e4519a96fa186fc2a3f92"
            }
          },
          "metadata": {}
        },
        {
          "output_type": "display_data",
          "data": {
            "text/plain": "Generating test split:   0%|          | 0/25000 [00:00<?, ? examples/s]",
            "application/vnd.jupyter.widget-view+json": {
              "version_major": 2,
              "version_minor": 0,
              "model_id": "0d32643e192741b89d5df4a51cfc110d"
            }
          },
          "metadata": {}
        },
        {
          "output_type": "display_data",
          "data": {
            "text/plain": "Generating unsupervised split:   0%|          | 0/50000 [00:00<?, ? examples/s]",
            "application/vnd.jupyter.widget-view+json": {
              "version_major": 2,
              "version_minor": 0,
              "model_id": "8a0be93b314f489fa18be508a7597831"
            }
          },
          "metadata": {}
        }
      ],
      "execution_count": 5
    },
    {
      "cell_type": "markdown",
      "source": "### Препроцессинг данных и создание словаря (1 балл)\n\nДалее вам необходмо самостоятельно произвести препроцессинг данных и получить словарь или же просто ```set``` строк. Что необходимо сделать:\n\n1. Разделить отдельные тренировочные примеры на отдельные предложения с помощью функции ```sent_tokenize``` из бибилиотеки ```nltk```. Каждое отдельное предложение будет одним тренировочным примером.\n2. Оставить только те предложения, в которых меньше ```word_threshold``` слов.\n3. Посчитать частоту вхождения каждого слова в оставшихся предложениях. Для деления предлоения на отдельные слова удобно использовать функцию ```word_tokenize```.\n4. Создать объект ```vocab``` класса ```set```, положить в него служебные токены '\\<unk\\>', '\\<bos\\>', '\\<eos\\>', '\\<pad\\>' и vocab_size самых частовстречающихся слов.   ",
      "metadata": {
        "id": "24gn7CuZ9agP"
      }
    },
    {
      "cell_type": "code",
      "source": "sentences = []\nword_threshold = 32\n\nfor document in tqdm(dataset['train']['text']):\n  tokenize_document = sent_tokenize(document, language='english')\n\n  for sentence in tokenize_document:\n    if len(word_tokenize(sentence)) >= word_threshold:\n      sentences.append(sentence.lower())\n# Получить отдельные предложения и поместить их в sentences",
      "metadata": {
        "id": "Ins2tVCdsS47",
        "colab": {
          "base_uri": "https://localhost:8080/",
          "height": 49,
          "referenced_widgets": [
            "b9de7e89ba924b8ba655853db9c684e4",
            "0938fdc9f36c42949963829360a8152a",
            "a3e5543e3c534d8b8104bb5b15f0a682",
            "d0faaa3e1e844dc4b49bb14c5f7f075f",
            "ad13185b3de34d699a0034ec73c37f6a",
            "b274d1b430d24b9890d2ea3f8c923477",
            "ce60a5e9454b4f6fab7967de59e673e6",
            "8655c4570b234f908e587713f2aaadc5",
            "c76a768fc4444a70a09333167dd17adc",
            "12bec89762d149589c1e71fe15892c61",
            "90049a24b4924549a56f1eda70dc5580"
          ]
        },
        "outputId": "47feb20d-4e93-4037-a404-fea56112c565",
        "trusted": true,
        "execution": {
          "iopub.status.busy": "2025-10-02T20:35:05.887972Z",
          "iopub.execute_input": "2025-10-02T20:35:05.888292Z",
          "iopub.status.idle": "2025-10-02T20:35:38.725717Z",
          "shell.execute_reply.started": "2025-10-02T20:35:05.888269Z",
          "shell.execute_reply": "2025-10-02T20:35:38.724910Z"
        }
      },
      "outputs": [
        {
          "output_type": "display_data",
          "data": {
            "text/plain": "  0%|          | 0/25000 [00:00<?, ?it/s]",
            "application/vnd.jupyter.widget-view+json": {
              "version_major": 2,
              "version_minor": 0,
              "model_id": "e8c509e9d890498eb11fc6b9d18053ef"
            }
          },
          "metadata": {}
        }
      ],
      "execution_count": 6
    },
    {
      "cell_type": "code",
      "source": "print(\"Всего предложений:\", len(sentences))\nprint(dataset[\"train\"][\"text\"][0])\nprint(sentences[0])",
      "metadata": {
        "id": "bxeBxP3J1Rj3",
        "colab": {
          "base_uri": "https://localhost:8080/"
        },
        "outputId": "e0506ea8-0cfa-4e54-b1d3-857ee2acb81c",
        "trusted": true,
        "execution": {
          "iopub.status.busy": "2025-10-02T20:36:28.758870Z",
          "iopub.execute_input": "2025-10-02T20:36:28.759176Z",
          "iopub.status.idle": "2025-10-02T20:36:28.827839Z",
          "shell.execute_reply.started": "2025-10-02T20:36:28.759155Z",
          "shell.execute_reply": "2025-10-02T20:36:28.827058Z"
        }
      },
      "outputs": [
        {
          "name": "stdout",
          "text": "Всего предложений: 72256\nI rented I AM CURIOUS-YELLOW from my video store because of all the controversy that surrounded it when it was first released in 1967. I also heard that at first it was seized by U.S. customs if it ever tried to enter this country, therefore being a fan of films considered \"controversial\" I really had to see this for myself.<br /><br />The plot is centered around a young Swedish drama student named Lena who wants to learn everything she can about life. In particular she wants to focus her attentions to making some sort of documentary on what the average Swede thought about certain political issues such as the Vietnam War and race issues in the United States. In between asking politicians and ordinary denizens of Stockholm about their opinions on politics, she has sex with her drama teacher, classmates, and married men.<br /><br />What kills me about I AM CURIOUS-YELLOW is that 40 years ago, this was considered pornographic. Really, the sex and nudity scenes are few and far between, even then it's not shot like some cheaply made porno. While my countrymen mind find it shocking, in reality sex and nudity are a major staple in Swedish cinema. Even Ingmar Bergman, arguably their answer to good old boy John Ford, had sex scenes in his films.<br /><br />I do commend the filmmakers for the fact that any sex shown in the film is shown for artistic purposes rather than just to shock people and make money to be shown in pornographic theaters in America. I AM CURIOUS-YELLOW is a good film for anyone wanting to study the meat and potatoes (no pun intended) of Swedish cinema. But really, this film doesn't have much of a plot.\ni also heard that at first it was seized by u.s. customs if it ever tried to enter this country, therefore being a fan of films considered \"controversial\" i really had to see this for myself.<br /><br />the plot is centered around a young swedish drama student named lena who wants to learn everything she can about life.\n",
          "output_type": "stream"
        }
      ],
      "execution_count": 7
    },
    {
      "cell_type": "markdown",
      "source": "Посчитаем для каждого слова его встречаемость.",
      "metadata": {
        "id": "iT82XkT6ULA_"
      }
    },
    {
      "cell_type": "code",
      "source": "words = Counter()\n\nfor sentence in tqdm(sentences):\n  for word in word_tokenize(sentence):\n    words[word] += 1",
      "metadata": {
        "id": "nEvCN0Y1w1yH",
        "colab": {
          "base_uri": "https://localhost:8080/",
          "height": 49,
          "referenced_widgets": [
            "601d168d95c94f129a5ffd19b958bd36",
            "7a093cd22c8c4406ac8dab59903e0f11",
            "48bb33c06f1b4109919ce1a88554a57f",
            "e4b7a83cd3e44200b053b829a239cdb9",
            "d03c9fb4f5a045d2928abe7b2c7c55bd",
            "9d13652d2b584d48aa3df83382d32806",
            "147344d24a2a4fa8acb07b9dc260140d",
            "5d7a780713e741128b2b2d53179e8119",
            "54042f46c30d4d9ebb71c81ca9189171",
            "f31184b2b7c147c1a817befed413b76c",
            "c248ee3cdbed4d5285964f11310bcb87"
          ]
        },
        "outputId": "cd92e667-5edd-423c-da66-335d8b1d76bd",
        "trusted": true,
        "execution": {
          "iopub.status.busy": "2025-10-02T20:36:31.797172Z",
          "iopub.execute_input": "2025-10-02T20:36:31.797650Z",
          "iopub.status.idle": "2025-10-02T20:36:44.704484Z",
          "shell.execute_reply.started": "2025-10-02T20:36:31.797625Z",
          "shell.execute_reply": "2025-10-02T20:36:44.703724Z"
        }
      },
      "outputs": [
        {
          "output_type": "display_data",
          "data": {
            "text/plain": "  0%|          | 0/72256 [00:00<?, ?it/s]",
            "application/vnd.jupyter.widget-view+json": {
              "version_major": 2,
              "version_minor": 0,
              "model_id": "afaac4ccd76a4a558f27f93c4ac91d9a"
            }
          },
          "metadata": {}
        }
      ],
      "execution_count": 8
    },
    {
      "cell_type": "code",
      "source": "print(len(words))",
      "metadata": {
        "colab": {
          "base_uri": "https://localhost:8080/"
        },
        "id": "G_Rq4Xsyiu7r",
        "outputId": "d56a5d4a-20b4-48ca-ff3c-180d424d9df2",
        "trusted": true,
        "execution": {
          "iopub.status.busy": "2025-10-02T20:36:48.188374Z",
          "iopub.execute_input": "2025-10-02T20:36:48.188651Z",
          "iopub.status.idle": "2025-10-02T20:36:48.192597Z",
          "shell.execute_reply.started": "2025-10-02T20:36:48.188630Z",
          "shell.execute_reply": "2025-10-02T20:36:48.191872Z"
        }
      },
      "outputs": [
        {
          "name": "stdout",
          "text": "87302\n",
          "output_type": "stream"
        }
      ],
      "execution_count": 9
    },
    {
      "cell_type": "markdown",
      "source": "Добавим в словарь ```vocab_size``` самых встречающихся слов.",
      "metadata": {
        "id": "B4k4uSoHUSI0"
      }
    },
    {
      "cell_type": "code",
      "source": "vocab = set(['<unk>', '<bos>', '<eos>', '<pad>'])\nvocab_size = 5000\n\nprint(f\"Начальный размер vocab: {len(vocab)}\")\nfor word, cnt in sorted(words.items(), key=lambda x: x[1], reverse=True):\n  if len(vocab) >= (vocab_size + 4):\n    break\n  vocab.add(word)\n\nprint(f\"Финальный размер vocab: {len(vocab)}\")",
      "metadata": {
        "id": "oUBNwsK9xLIu",
        "colab": {
          "base_uri": "https://localhost:8080/"
        },
        "outputId": "9479ea92-b195-4241-927a-d1e86218d5cd",
        "trusted": true,
        "execution": {
          "iopub.status.busy": "2025-10-02T20:36:50.891513Z",
          "iopub.execute_input": "2025-10-02T20:36:50.891783Z",
          "iopub.status.idle": "2025-10-02T20:36:50.926067Z",
          "shell.execute_reply.started": "2025-10-02T20:36:50.891764Z",
          "shell.execute_reply": "2025-10-02T20:36:50.925327Z"
        }
      },
      "outputs": [
        {
          "name": "stdout",
          "text": "Начальный размер vocab: 4\nФинальный размер vocab: 5004\n",
          "output_type": "stream"
        }
      ],
      "execution_count": 10
    },
    {
      "cell_type": "code",
      "source": "assert '<unk>' in vocab\nassert '<bos>' in vocab\nassert '<eos>' in vocab\nassert '<pad>' in vocab\nassert len(vocab) == vocab_size + 4",
      "metadata": {
        "id": "ieT0DFUpXnV2",
        "trusted": true,
        "execution": {
          "iopub.status.busy": "2025-10-02T20:36:53.608258Z",
          "iopub.execute_input": "2025-10-02T20:36:53.608525Z",
          "iopub.status.idle": "2025-10-02T20:36:53.612660Z",
          "shell.execute_reply.started": "2025-10-02T20:36:53.608506Z",
          "shell.execute_reply": "2025-10-02T20:36:53.611860Z"
        }
      },
      "outputs": [],
      "execution_count": 11
    },
    {
      "cell_type": "code",
      "source": "print(\"Всего слов в словаре:\", len(vocab))",
      "metadata": {
        "id": "JhACW2CQyck5",
        "colab": {
          "base_uri": "https://localhost:8080/"
        },
        "outputId": "fed8473f-3ed5-4d55-c6fc-de1bd5d78a7b",
        "trusted": true,
        "execution": {
          "iopub.status.busy": "2025-10-02T20:36:56.096940Z",
          "iopub.execute_input": "2025-10-02T20:36:56.097243Z",
          "iopub.status.idle": "2025-10-02T20:36:56.101284Z",
          "shell.execute_reply.started": "2025-10-02T20:36:56.097221Z",
          "shell.execute_reply": "2025-10-02T20:36:56.100480Z"
        }
      },
      "outputs": [
        {
          "name": "stdout",
          "text": "Всего слов в словаре: 5004\n",
          "output_type": "stream"
        }
      ],
      "execution_count": 12
    },
    {
      "cell_type": "markdown",
      "source": "### Подготовка датасета (1 балл)\n\nДалее, как и в семинарском занятии, подготовим датасеты и даталоадеры.\n\nВ классе ```WordDataset``` вам необходимо реализовать метод ```__getitem__```, который будет возвращать сэмпл данных по входному idx, то есть список целых чисел (индексов слов).\n\nВнутри этого метода необходимо добавить служебные токены начала и конца последовательности, а также токенизировать соответствующее предложение с помощью ```word_tokenize``` и сопоставить ему индексы из ```word2ind```.",
      "metadata": {
        "id": "UmeRYKSIUcdE"
      }
    },
    {
      "cell_type": "code",
      "source": "word2ind = {char: i for i, char in enumerate(vocab)}\nind2word = {i: char for char, i in word2ind.items()}",
      "metadata": {
        "id": "iD7SmSy3v2dl",
        "trusted": true,
        "execution": {
          "iopub.status.busy": "2025-10-02T20:36:59.637386Z",
          "iopub.execute_input": "2025-10-02T20:36:59.638119Z",
          "iopub.status.idle": "2025-10-02T20:36:59.643327Z",
          "shell.execute_reply.started": "2025-10-02T20:36:59.638093Z",
          "shell.execute_reply": "2025-10-02T20:36:59.642562Z"
        }
      },
      "outputs": [],
      "execution_count": 13
    },
    {
      "cell_type": "code",
      "source": "class WordDataset:\n    def __init__(self, sentences):\n        self.data = sentences\n        self.unk_id = word2ind['<unk>']\n        self.bos_id = word2ind['<bos>']\n        self.eos_id = word2ind['<eos>']\n        self.pad_id = word2ind['<pad>']\n\n    def __getitem__(self, idx: int) -> List[int]:\n        words = word_tokenize(self.data[idx])\n        tokenized_sentence = [self.bos_id]\n        tokenized_sentence += [word2ind.get(word, self.unk_id) for word in words]\n        tokenized_sentence += [self.eos_id]\n\n        return tokenized_sentence\n\n    def __len__(self) -> int:\n        return len(self.data)",
      "metadata": {
        "id": "FVzXL17PzC7K",
        "trusted": true,
        "execution": {
          "iopub.status.busy": "2025-10-02T20:37:42.338240Z",
          "iopub.execute_input": "2025-10-02T20:37:42.338523Z",
          "iopub.status.idle": "2025-10-02T20:37:42.343983Z",
          "shell.execute_reply.started": "2025-10-02T20:37:42.338498Z",
          "shell.execute_reply": "2025-10-02T20:37:42.343248Z"
        }
      },
      "outputs": [],
      "execution_count": 14
    },
    {
      "cell_type": "code",
      "source": "def collate_fn_with_padding(\n    input_batch: List[List[int]], pad_id=word2ind['<pad>']) -> torch.Tensor:\n    seq_lens = [len(x) for x in input_batch]\n    max_seq_len = max(seq_lens)\n\n    new_batch = []\n    for sequence in input_batch:\n        for _ in range(max_seq_len - len(sequence)):\n            sequence.append(pad_id)\n        new_batch.append(sequence)\n\n    sequences = torch.LongTensor(new_batch).to(device)\n\n    new_batch = {\n        'input_ids': sequences[:,:-1],\n        'target_ids': sequences[:,1:]\n    }\n\n    return new_batch",
      "metadata": {
        "id": "I6CtYNMp2_g0",
        "trusted": true,
        "execution": {
          "iopub.status.busy": "2025-10-02T20:37:45.158401Z",
          "iopub.execute_input": "2025-10-02T20:37:45.159067Z",
          "iopub.status.idle": "2025-10-02T20:37:45.164073Z",
          "shell.execute_reply.started": "2025-10-02T20:37:45.159036Z",
          "shell.execute_reply": "2025-10-02T20:37:45.163341Z"
        }
      },
      "outputs": [],
      "execution_count": 15
    },
    {
      "cell_type": "code",
      "source": "train_sentences, eval_sentences = train_test_split(sentences, test_size=0.2)\neval_sentences, test_sentences = train_test_split(sentences, test_size=0.5)\n\ntrain_dataset = WordDataset(train_sentences)\neval_dataset = WordDataset(eval_sentences)\ntest_dataset = WordDataset(test_sentences)\n\nbatch_size = 64\n\ntrain_dataloader = DataLoader(\n    train_dataset, collate_fn=collate_fn_with_padding, batch_size=batch_size)\n\neval_dataloader = DataLoader(\n    eval_dataset, collate_fn=collate_fn_with_padding, batch_size=batch_size)\n\ntest_dataloader = DataLoader(\n    test_dataset, collate_fn=collate_fn_with_padding, batch_size=batch_size)",
      "metadata": {
        "id": "6xmeK9Ys1BIG",
        "trusted": true,
        "execution": {
          "iopub.status.busy": "2025-10-02T15:28:44.382689Z",
          "iopub.execute_input": "2025-10-02T15:28:44.382953Z",
          "iopub.status.idle": "2025-10-02T15:28:44.423750Z",
          "shell.execute_reply.started": "2025-10-02T15:28:44.382934Z",
          "shell.execute_reply": "2025-10-02T15:28:44.423136Z"
        }
      },
      "outputs": [],
      "execution_count": 20
    },
    {
      "cell_type": "markdown",
      "source": "**В коде выше неправильно проведено деление на train, eval, test.** Следствие: модель будет видеть одни и те же данные и в обучении, и в тестировании. Она \"запоминит\" ответы вместо того, чтобы обобщать\n\nСделаем другое разделение, и продолжим обучение на его основе.",
      "metadata": {
        "id": "5onBAX8-t1YJ"
      }
    },
    {
      "cell_type": "code",
      "source": "train_eval_sentences, test_sentences = train_test_split(sentences, test_size=0.2)\ntrain_sentences, eval_sentences = train_test_split(train_eval_sentences, test_size=0.25)\n\nbatch_size = 64\n\ntrain_dataset = WordDataset(train_sentences)\neval_dataset = WordDataset(eval_sentences)\ntest_dataset = WordDataset(test_sentences)\n\ntrain_dataloader = DataLoader(\n    train_dataset, collate_fn=collate_fn_with_padding, batch_size=batch_size)\n\neval_dataloader = DataLoader(\n    eval_dataset, collate_fn=collate_fn_with_padding, batch_size=batch_size)\n\ntest_dataloader = DataLoader(\n    test_dataset, collate_fn=collate_fn_with_padding, batch_size=batch_size)",
      "metadata": {
        "id": "rZbT0F2xt1ua",
        "trusted": true,
        "execution": {
          "iopub.status.busy": "2025-10-02T20:37:48.938379Z",
          "iopub.execute_input": "2025-10-02T20:37:48.939076Z",
          "iopub.status.idle": "2025-10-02T20:37:48.974363Z",
          "shell.execute_reply.started": "2025-10-02T20:37:48.939044Z",
          "shell.execute_reply": "2025-10-02T20:37:48.973829Z"
        }
      },
      "outputs": [],
      "execution_count": 16
    },
    {
      "cell_type": "markdown",
      "source": "## Обучение и архитектура модели\n\nВам необходимо на практике проверить, что влияет на качество языковых моделей. В этом задании нужно провести серию экспериментов с различными вариантами языковых моделей и сравнить различия в конечной перплексии на тестовом множестве.\n\nВозмоэные идеи для экспериментов:\n\n* Различные RNN-блоки, например, LSTM или GRU. Также можно добавить сразу несколько RNN блоков друг над другом с помощью аргумента num_layers. Вам поможет официальная документация [здесь](https://pytorch.org/docs/stable/generated/torch.nn.LSTM.html)\n* Различные размеры скрытого состояния. Различное количество линейных слоев после RNN-блока. Различные функции активации.\n* Добавление нормализаций в виде Dropout, BatchNorm или LayerNorm\n* Различные аргументы для оптимизации, например, подбор оптимального learning rate или тип алгоритма оптимизации SGD, Adam, RMSProp и другие\n* Любые другие идеи и подходы\n\nПосле проведения экспериментов необходимо составить таблицу результатов, в которой описан каждый эксперимент и посчитана перплексия на тестовом множестве.\n\nУчтите, что эксперименты, которые различаются, например, только размером скрытого состояния или количеством линейных слоев считаются, как один эксперимент.\n\nУспехов!",
      "metadata": {
        "id": "SMAexY7Y45E4"
      }
    },
    {
      "cell_type": "markdown",
      "source": "### Функция evaluate (1 балл)\n\nЗаполните функцию ```evaluate```",
      "metadata": {
        "id": "KP1cO-3bmDv9"
      }
    },
    {
      "cell_type": "code",
      "source": "def evaluate(model, criterion, dataloader) -> float:\n    model.eval()\n    perplexity = []\n    with torch.no_grad():\n        for batch in dataloader:\n            logits = model(batch['input_ids']).flatten(start_dim=0, end_dim=1)\n            loss = criterion(logits, batch['target_ids'].flatten())\n            perplexity.append(torch.exp(loss).item())\n\n    perplexity = sum(perplexity) / len(perplexity)\n\n    return perplexity",
      "metadata": {
        "id": "XUlMUVJ3mL4r",
        "trusted": true,
        "execution": {
          "iopub.status.busy": "2025-10-02T20:37:52.268959Z",
          "iopub.execute_input": "2025-10-02T20:37:52.269694Z",
          "iopub.status.idle": "2025-10-02T20:37:52.273933Z",
          "shell.execute_reply.started": "2025-10-02T20:37:52.269669Z",
          "shell.execute_reply": "2025-10-02T20:37:52.273410Z"
        }
      },
      "outputs": [],
      "execution_count": 17
    },
    {
      "cell_type": "markdown",
      "source": "### Train loop (1 балл)\n\nНапишите функцию для обучения модели.",
      "metadata": {
        "id": "bLV63Vsk7loy"
      }
    },
    {
      "cell_type": "code",
      "source": "def train_model(train_dataloader, model, optimizer, criterion, num_epoch ):\n  losses = []\n  perplexities = []\n\n  for epoch in range(num_epoch):\n    epoch_losses = []\n    model.train()\n    for batch in tqdm(train_dataloader, desc= f'Training epoch {epoch}:'):\n      optimizer.zero_grad()\n      logits = model(batch['input_ids'])\n      loss = criterion(logits.reshape(-1, logits.size(-1)), batch['target_ids'].reshape(-1))\n      loss.backward()\n      optimizer.step()\n\n      epoch_losses.append(loss.item())\n\n    losses.append(sum(epoch_losses)/ len(epoch_losses))\n    perplexities.append(evaluate(model, criterion, eval_dataloader))\n  return losses, perplexities",
      "metadata": {
        "id": "bSZmUC3YmocP",
        "trusted": true,
        "execution": {
          "iopub.status.busy": "2025-10-02T21:47:16.516819Z",
          "iopub.execute_input": "2025-10-02T21:47:16.517130Z",
          "iopub.status.idle": "2025-10-02T21:47:16.522740Z",
          "shell.execute_reply.started": "2025-10-02T21:47:16.517107Z",
          "shell.execute_reply": "2025-10-02T21:47:16.522063Z"
        }
      },
      "outputs": [],
      "execution_count": 39
    },
    {
      "cell_type": "markdown",
      "source": "### Первый эксперимент (2 балла)\n\nОпределите архитектуру модели и обучите её.",
      "metadata": {
        "id": "hXmeyhBQmuq4"
      }
    },
    {
      "cell_type": "code",
      "source": "class LanguageModel(nn.Module):\n    def __init__(self, hidden_dim: int, vocab_size: int):\n        super().__init__()\n        self.embedding = nn.Embedding(vocab_size, hidden_dim)\n        self.rnn = nn.LSTM(hidden_dim, hidden_dim, batch_first=True)\n        self.linear = nn.Linear(hidden_dim, hidden_dim)\n        self.projection = nn.Linear(hidden_dim, vocab_size)\n\n        self.non_lin = nn.Tanh()\n        self.dropout = nn.Dropout(p = 0.1)\n\n    def forward(self, input_batch: torch.Tensor) -> torch.Tensor:\n        embeddings = self.embedding(input_batch)\n        output, _ = self.rnn(embeddings)\n        output = self.dropout(self.linear(self.non_lin(output)))\n        projection= self.projection(self.non_lin(output))\n\n        return projection",
      "metadata": {
        "id": "qaWvqNJom0ij",
        "trusted": true,
        "execution": {
          "iopub.status.busy": "2025-10-02T21:47:19.237644Z",
          "iopub.execute_input": "2025-10-02T21:47:19.237914Z",
          "iopub.status.idle": "2025-10-02T21:47:19.243605Z",
          "shell.execute_reply.started": "2025-10-02T21:47:19.237893Z",
          "shell.execute_reply": "2025-10-02T21:47:19.242992Z"
        }
      },
      "outputs": [],
      "execution_count": 40
    },
    {
      "cell_type": "code",
      "source": "model = LanguageModel(hidden_dim=64, vocab_size=len(vocab)).to(device)\ncriterion = nn.CrossEntropyLoss(ignore_index=word2ind['<pad>'])\noptimizer = torch.optim.Adam(model.parameters())",
      "metadata": {
        "id": "TxbEzn5fnBOY",
        "colab": {
          "base_uri": "https://localhost:8080/",
          "height": 443
        },
        "outputId": "9ab71c55-6c4b-4ec5-8201-7aaf631d9755",
        "trusted": true,
        "execution": {
          "iopub.status.busy": "2025-10-02T21:47:21.236848Z",
          "iopub.execute_input": "2025-10-02T21:47:21.237166Z",
          "iopub.status.idle": "2025-10-02T21:47:21.253764Z",
          "shell.execute_reply.started": "2025-10-02T21:47:21.237143Z",
          "shell.execute_reply": "2025-10-02T21:47:21.253065Z"
        }
      },
      "outputs": [],
      "execution_count": 41
    },
    {
      "cell_type": "code",
      "source": "losses, perplexities = train_model(train_dataloader, model, optimizer, criterion, 20)",
      "metadata": {
        "colab": {
          "base_uri": "https://localhost:8080/",
          "height": 409,
          "referenced_widgets": [
            "b13c4216d61243bd9bcf9e57505e3f37",
            "8ee093e14dd1481aa948fe3a91785dc4",
            "e0dd38587a2644b59f79d8e319678f8b",
            "92a7aa5fe5e14a12a3a71d65db6d333b",
            "6c1afe15ca214bbc9913a94ae17ad2f9",
            "a6f7a3d4f2f444e18c98c6b921ae54f3",
            "f6dd1f0d17064918868ed1058d9d3afe",
            "15d1c992dd8047bbb2e7dad9bcc2f374",
            "b040aa92f07d4c89a6f6d36f8b4b0ee7",
            "f3989b8326454c33a01d798796a5bf3b",
            "5baf8fd30af04eec835ce643627a1bb6"
          ]
        },
        "id": "bS5lIWmq0jwo",
        "outputId": "3685a087-17ca-46e7-bc9e-df77e1287216",
        "trusted": true,
        "execution": {
          "iopub.status.busy": "2025-10-02T21:47:23.335573Z",
          "iopub.execute_input": "2025-10-02T21:47:23.335832Z",
          "iopub.status.idle": "2025-10-02T21:54:55.420691Z",
          "shell.execute_reply.started": "2025-10-02T21:47:23.335811Z",
          "shell.execute_reply": "2025-10-02T21:54:55.420020Z"
        }
      },
      "outputs": [
        {
          "output_type": "display_data",
          "data": {
            "text/plain": "Training epoch 0::   0%|          | 0/678 [00:00<?, ?it/s]",
            "application/vnd.jupyter.widget-view+json": {
              "version_major": 2,
              "version_minor": 0,
              "model_id": "19aff5fd73e347f1bcc8d64d242c4438"
            }
          },
          "metadata": {}
        },
        {
          "output_type": "display_data",
          "data": {
            "text/plain": "Training epoch 1::   0%|          | 0/678 [00:00<?, ?it/s]",
            "application/vnd.jupyter.widget-view+json": {
              "version_major": 2,
              "version_minor": 0,
              "model_id": "851acdddc8b2445aba86765179eb98d4"
            }
          },
          "metadata": {}
        },
        {
          "output_type": "display_data",
          "data": {
            "text/plain": "Training epoch 2::   0%|          | 0/678 [00:00<?, ?it/s]",
            "application/vnd.jupyter.widget-view+json": {
              "version_major": 2,
              "version_minor": 0,
              "model_id": "e6f16bf2da864eab81e314accf752601"
            }
          },
          "metadata": {}
        },
        {
          "output_type": "display_data",
          "data": {
            "text/plain": "Training epoch 3::   0%|          | 0/678 [00:00<?, ?it/s]",
            "application/vnd.jupyter.widget-view+json": {
              "version_major": 2,
              "version_minor": 0,
              "model_id": "bbd348540e0f4955af2df01de400a843"
            }
          },
          "metadata": {}
        },
        {
          "output_type": "display_data",
          "data": {
            "text/plain": "Training epoch 4::   0%|          | 0/678 [00:00<?, ?it/s]",
            "application/vnd.jupyter.widget-view+json": {
              "version_major": 2,
              "version_minor": 0,
              "model_id": "4c78f075d7464de9b92292c50c5019c0"
            }
          },
          "metadata": {}
        },
        {
          "output_type": "display_data",
          "data": {
            "text/plain": "Training epoch 5::   0%|          | 0/678 [00:00<?, ?it/s]",
            "application/vnd.jupyter.widget-view+json": {
              "version_major": 2,
              "version_minor": 0,
              "model_id": "e5229ad78bdb468bbb83e2235afdac47"
            }
          },
          "metadata": {}
        },
        {
          "output_type": "display_data",
          "data": {
            "text/plain": "Training epoch 6::   0%|          | 0/678 [00:00<?, ?it/s]",
            "application/vnd.jupyter.widget-view+json": {
              "version_major": 2,
              "version_minor": 0,
              "model_id": "7f5e4381479540ec828534318b6a4f79"
            }
          },
          "metadata": {}
        },
        {
          "output_type": "display_data",
          "data": {
            "text/plain": "Training epoch 7::   0%|          | 0/678 [00:00<?, ?it/s]",
            "application/vnd.jupyter.widget-view+json": {
              "version_major": 2,
              "version_minor": 0,
              "model_id": "ab90ddf6172d4e698e322688f81098c7"
            }
          },
          "metadata": {}
        },
        {
          "output_type": "display_data",
          "data": {
            "text/plain": "Training epoch 8::   0%|          | 0/678 [00:00<?, ?it/s]",
            "application/vnd.jupyter.widget-view+json": {
              "version_major": 2,
              "version_minor": 0,
              "model_id": "89087679cedd42f5831b58d29f61df04"
            }
          },
          "metadata": {}
        },
        {
          "output_type": "display_data",
          "data": {
            "text/plain": "Training epoch 9::   0%|          | 0/678 [00:00<?, ?it/s]",
            "application/vnd.jupyter.widget-view+json": {
              "version_major": 2,
              "version_minor": 0,
              "model_id": "523600e0f73e4bae9e63b448f94f5a19"
            }
          },
          "metadata": {}
        },
        {
          "output_type": "display_data",
          "data": {
            "text/plain": "Training epoch 10::   0%|          | 0/678 [00:00<?, ?it/s]",
            "application/vnd.jupyter.widget-view+json": {
              "version_major": 2,
              "version_minor": 0,
              "model_id": "f6bc727a23da4ee3b4db0c0b9daff705"
            }
          },
          "metadata": {}
        },
        {
          "output_type": "display_data",
          "data": {
            "text/plain": "Training epoch 11::   0%|          | 0/678 [00:00<?, ?it/s]",
            "application/vnd.jupyter.widget-view+json": {
              "version_major": 2,
              "version_minor": 0,
              "model_id": "323bdd9521cf48c2b2c65fd96b370685"
            }
          },
          "metadata": {}
        },
        {
          "output_type": "display_data",
          "data": {
            "text/plain": "Training epoch 12::   0%|          | 0/678 [00:00<?, ?it/s]",
            "application/vnd.jupyter.widget-view+json": {
              "version_major": 2,
              "version_minor": 0,
              "model_id": "f5b34511339243beb1393139a0b53933"
            }
          },
          "metadata": {}
        },
        {
          "output_type": "display_data",
          "data": {
            "text/plain": "Training epoch 13::   0%|          | 0/678 [00:00<?, ?it/s]",
            "application/vnd.jupyter.widget-view+json": {
              "version_major": 2,
              "version_minor": 0,
              "model_id": "821cf3443cf347b1aa33faba9ec7772a"
            }
          },
          "metadata": {}
        },
        {
          "output_type": "display_data",
          "data": {
            "text/plain": "Training epoch 14::   0%|          | 0/678 [00:00<?, ?it/s]",
            "application/vnd.jupyter.widget-view+json": {
              "version_major": 2,
              "version_minor": 0,
              "model_id": "62bdd8b76c5d47f099f480255de6b0f6"
            }
          },
          "metadata": {}
        },
        {
          "output_type": "display_data",
          "data": {
            "text/plain": "Training epoch 15::   0%|          | 0/678 [00:00<?, ?it/s]",
            "application/vnd.jupyter.widget-view+json": {
              "version_major": 2,
              "version_minor": 0,
              "model_id": "431661aeb58a479ca1559033e9235f09"
            }
          },
          "metadata": {}
        },
        {
          "output_type": "display_data",
          "data": {
            "text/plain": "Training epoch 16::   0%|          | 0/678 [00:00<?, ?it/s]",
            "application/vnd.jupyter.widget-view+json": {
              "version_major": 2,
              "version_minor": 0,
              "model_id": "fe67fd4b55374c05bdab5b07b5fc1779"
            }
          },
          "metadata": {}
        },
        {
          "output_type": "display_data",
          "data": {
            "text/plain": "Training epoch 17::   0%|          | 0/678 [00:00<?, ?it/s]",
            "application/vnd.jupyter.widget-view+json": {
              "version_major": 2,
              "version_minor": 0,
              "model_id": "d20e0a188ef04074a0c0dca940bc3256"
            }
          },
          "metadata": {}
        },
        {
          "output_type": "display_data",
          "data": {
            "text/plain": "Training epoch 18::   0%|          | 0/678 [00:00<?, ?it/s]",
            "application/vnd.jupyter.widget-view+json": {
              "version_major": 2,
              "version_minor": 0,
              "model_id": "1e6c94c6ef354fd3bfce4b8867ebd069"
            }
          },
          "metadata": {}
        },
        {
          "output_type": "display_data",
          "data": {
            "text/plain": "Training epoch 19::   0%|          | 0/678 [00:00<?, ?it/s]",
            "application/vnd.jupyter.widget-view+json": {
              "version_major": 2,
              "version_minor": 0,
              "model_id": "9bf2a0830c8243198a45994b4aa56538"
            }
          },
          "metadata": {}
        }
      ],
      "execution_count": 42
    },
    {
      "cell_type": "code",
      "source": "plt.plot(np.arange(len(losses)), losses)\nplt.title('Losses')\nplt.xlabel(\"epoch\")\nplt.show()",
      "metadata": {
        "trusted": true,
        "execution": {
          "iopub.status.busy": "2025-10-02T21:58:10.547367Z",
          "iopub.execute_input": "2025-10-02T21:58:10.547982Z",
          "iopub.status.idle": "2025-10-02T21:58:10.756266Z",
          "shell.execute_reply.started": "2025-10-02T21:58:10.547958Z",
          "shell.execute_reply": "2025-10-02T21:58:10.755586Z"
        }
      },
      "outputs": [
        {
          "output_type": "display_data",
          "data": {
            "text/plain": "<Figure size 640x480 with 1 Axes>",
            "image/png": "[encoded data removed]"
          },
          "metadata": {}
        }
      ],
      "execution_count": 43
    },
    {
      "cell_type": "code",
      "source": "plt.plot(np.arange(len(perplexities)), perplexities)\nplt.title('Perplexity')\nplt.xlabel(\"epoch\")\nplt.show()",
      "metadata": {
        "trusted": true,
        "execution": {
          "iopub.status.busy": "2025-10-02T21:58:14.326832Z",
          "iopub.execute_input": "2025-10-02T21:58:14.327303Z",
          "iopub.status.idle": "2025-10-02T21:58:14.532348Z",
          "shell.execute_reply.started": "2025-10-02T21:58:14.327280Z",
          "shell.execute_reply": "2025-10-02T21:58:14.531759Z"
        }
      },
      "outputs": [
        {
          "output_type": "display_data",
          "data": {
            "text/plain": "<Figure size 640x480 with 1 Axes>",
            "image/png": "[encoded data removed]"
          },
          "metadata": {}
        }
      ],
      "execution_count": 44
    },
    {
      "cell_type": "markdown",
      "source": "### Второй эксперимент (2 балла)\n\nПопробуйте что-то поменять в модели или в пайплайне обучения, идеи для экспериментов можно подсмотреть выше.",
      "metadata": {
        "id": "X1EW4faIm0tl"
      }
    },
    {
      "cell_type": "markdown",
      "source": "**1) Попробуем искпользовать GRU**, а не LSTM, так как LSTM дает большую точность по сравнению с GRU и RNN именно в архитектурах, в данном случае не получается запускать на GPU модель с более чем одним слоем",
      "metadata": {}
    },
    {
      "cell_type": "code",
      "source": "class LanguageModel(nn.Module):\n    def __init__(self, hidden_dim: int, vocab_size: int):\n        super().__init__()\n        self.embedding = nn.Embedding(vocab_size, hidden_dim)\n        self.rnn = nn.GRU(hidden_dim, hidden_dim, batch_first=True)\n        self.linear = nn.Linear(hidden_dim, hidden_dim)\n        self.projection = nn.Linear(hidden_dim, vocab_size)\n\n        self.non_lin = nn.Tanh()\n        self.dropout = nn.Dropout(p = 0.1)\n\n    def forward(self, input_batch: torch.Tensor) -> torch.Tensor:\n        embeddings = self.embedding(input_batch)\n        output, _ = self.rnn(embeddings)\n        output = self.dropout(self.linear(self.non_lin(output)))\n        projection= self.projection(self.non_lin(output))\n\n        return projection",
      "metadata": {
        "trusted": true,
        "execution": {
          "iopub.status.busy": "2025-10-02T20:55:04.318299Z",
          "iopub.execute_input": "2025-10-02T20:55:04.319022Z",
          "iopub.status.idle": "2025-10-02T20:55:04.324277Z",
          "shell.execute_reply.started": "2025-10-02T20:55:04.318976Z",
          "shell.execute_reply": "2025-10-02T20:55:04.323555Z"
        }
      },
      "outputs": [],
      "execution_count": 26
    },
    {
      "cell_type": "code",
      "source": "model2 = LanguageModel(hidden_dim=128, vocab_size=len(vocab)).to(device)\ncriterion2 = nn.CrossEntropyLoss(ignore_index=word2ind['<pad>'])\noptimizer2 = torch.optim.Adam(model2.parameters())",
      "metadata": {
        "trusted": true,
        "execution": {
          "iopub.status.busy": "2025-10-02T20:55:07.014321Z",
          "iopub.execute_input": "2025-10-02T20:55:07.014966Z",
          "iopub.status.idle": "2025-10-02T20:55:07.034894Z",
          "shell.execute_reply.started": "2025-10-02T20:55:07.014941Z",
          "shell.execute_reply": "2025-10-02T20:55:07.034197Z"
        }
      },
      "outputs": [],
      "execution_count": 27
    },
    {
      "cell_type": "code",
      "source": "losses2, perplexities2 = train_model(train_dataloader, model2, optimizer2, criterion2, 20)",
      "metadata": {
        "trusted": true,
        "execution": {
          "iopub.status.busy": "2025-10-02T20:55:10.147546Z",
          "iopub.execute_input": "2025-10-02T20:55:10.148099Z",
          "iopub.status.idle": "2025-10-02T21:04:07.687723Z",
          "shell.execute_reply.started": "2025-10-02T20:55:10.148074Z",
          "shell.execute_reply": "2025-10-02T21:04:07.687056Z"
        }
      },
      "outputs": [
        {
          "output_type": "display_data",
          "data": {
            "text/plain": "Training epoch 0::   0%|          | 0/678 [00:00<?, ?it/s]",
            "application/vnd.jupyter.widget-view+json": {
              "version_major": 2,
              "version_minor": 0,
              "model_id": "19bfde8f96884b4bb70ea435cbf0848e"
            }
          },
          "metadata": {}
        },
        {
          "output_type": "display_data",
          "data": {
            "text/plain": "Training epoch 1::   0%|          | 0/678 [00:00<?, ?it/s]",
            "application/vnd.jupyter.widget-view+json": {
              "version_major": 2,
              "version_minor": 0,
              "model_id": "a8ebbc8afd8a43959aeed190665cce2d"
            }
          },
          "metadata": {}
        },
        {
          "output_type": "display_data",
          "data": {
            "text/plain": "Training epoch 2::   0%|          | 0/678 [00:00<?, ?it/s]",
            "application/vnd.jupyter.widget-view+json": {
              "version_major": 2,
              "version_minor": 0,
              "model_id": "61103e4026bf4818878fc11955845c5d"
            }
          },
          "metadata": {}
        },
        {
          "output_type": "display_data",
          "data": {
            "text/plain": "Training epoch 3::   0%|          | 0/678 [00:00<?, ?it/s]",
            "application/vnd.jupyter.widget-view+json": {
              "version_major": 2,
              "version_minor": 0,
              "model_id": "8f0d9809c6ac4b8cbbd7eb8d1937cb4a"
            }
          },
          "metadata": {}
        },
        {
          "output_type": "display_data",
          "data": {
            "text/plain": "Training epoch 4::   0%|          | 0/678 [00:00<?, ?it/s]",
            "application/vnd.jupyter.widget-view+json": {
              "version_major": 2,
              "version_minor": 0,
              "model_id": "15e285bea8fc481eb23494bf5c410c1d"
            }
          },
          "metadata": {}
        },
        {
          "output_type": "display_data",
          "data": {
            "text/plain": "Training epoch 5::   0%|          | 0/678 [00:00<?, ?it/s]",
            "application/vnd.jupyter.widget-view+json": {
              "version_major": 2,
              "version_minor": 0,
              "model_id": "7413e0dba0d04255b08f0b5be6367180"
            }
          },
          "metadata": {}
        },
        {
          "output_type": "display_data",
          "data": {
            "text/plain": "Training epoch 6::   0%|          | 0/678 [00:00<?, ?it/s]",
            "application/vnd.jupyter.widget-view+json": {
              "version_major": 2,
              "version_minor": 0,
              "model_id": "62686c80e1954d28bf85e3ce03dbdbea"
            }
          },
          "metadata": {}
        },
        {
          "output_type": "display_data",
          "data": {
            "text/plain": "Training epoch 7::   0%|          | 0/678 [00:00<?, ?it/s]",
            "application/vnd.jupyter.widget-view+json": {
              "version_major": 2,
              "version_minor": 0,
              "model_id": "9693318f02e44e79aaaa0a850a836bdf"
            }
          },
          "metadata": {}
        },
        {
          "output_type": "display_data",
          "data": {
            "text/plain": "Training epoch 8::   0%|          | 0/678 [00:00<?, ?it/s]",
            "application/vnd.jupyter.widget-view+json": {
              "version_major": 2,
              "version_minor": 0,
              "model_id": "f768569f2a704cca9591e2c44a292729"
            }
          },
          "metadata": {}
        },
        {
          "output_type": "display_data",
          "data": {
            "text/plain": "Training epoch 9::   0%|          | 0/678 [00:00<?, ?it/s]",
            "application/vnd.jupyter.widget-view+json": {
              "version_major": 2,
              "version_minor": 0,
              "model_id": "ec5e08c52a224227a59f90567d8ced09"
            }
          },
          "metadata": {}
        },
        {
          "output_type": "display_data",
          "data": {
            "text/plain": "Training epoch 10::   0%|          | 0/678 [00:00<?, ?it/s]",
            "application/vnd.jupyter.widget-view+json": {
              "version_major": 2,
              "version_minor": 0,
              "model_id": "434fcb69c9c74052a69b4ce896319a14"
            }
          },
          "metadata": {}
        },
        {
          "output_type": "display_data",
          "data": {
            "text/plain": "Training epoch 11::   0%|          | 0/678 [00:00<?, ?it/s]",
            "application/vnd.jupyter.widget-view+json": {
              "version_major": 2,
              "version_minor": 0,
              "model_id": "405b199ca49349dd895a4273e2d84eb9"
            }
          },
          "metadata": {}
        },
        {
          "output_type": "display_data",
          "data": {
            "text/plain": "Training epoch 12::   0%|          | 0/678 [00:00<?, ?it/s]",
            "application/vnd.jupyter.widget-view+json": {
              "version_major": 2,
              "version_minor": 0,
              "model_id": "4f70bc8bb9814c329dabeec55c42187c"
            }
          },
          "metadata": {}
        },
        {
          "output_type": "display_data",
          "data": {
            "text/plain": "Training epoch 13::   0%|          | 0/678 [00:00<?, ?it/s]",
            "application/vnd.jupyter.widget-view+json": {
              "version_major": 2,
              "version_minor": 0,
              "model_id": "161bb05501d1401d81bb4eeaf3628447"
            }
          },
          "metadata": {}
        },
        {
          "output_type": "display_data",
          "data": {
            "text/plain": "Training epoch 14::   0%|          | 0/678 [00:00<?, ?it/s]",
            "application/vnd.jupyter.widget-view+json": {
              "version_major": 2,
              "version_minor": 0,
              "model_id": "a54fb45c0d814dea849506ec021ab611"
            }
          },
          "metadata": {}
        },
        {
          "output_type": "display_data",
          "data": {
            "text/plain": "Training epoch 15::   0%|          | 0/678 [00:00<?, ?it/s]",
            "application/vnd.jupyter.widget-view+json": {
              "version_major": 2,
              "version_minor": 0,
              "model_id": "536433e055a743fe9fcfa84054d0c445"
            }
          },
          "metadata": {}
        },
        {
          "output_type": "display_data",
          "data": {
            "text/plain": "Training epoch 16::   0%|          | 0/678 [00:00<?, ?it/s]",
            "application/vnd.jupyter.widget-view+json": {
              "version_major": 2,
              "version_minor": 0,
              "model_id": "0f07cc289bb8419cb10fcaf532d1d137"
            }
          },
          "metadata": {}
        },
        {
          "output_type": "display_data",
          "data": {
            "text/plain": "Training epoch 17::   0%|          | 0/678 [00:00<?, ?it/s]",
            "application/vnd.jupyter.widget-view+json": {
              "version_major": 2,
              "version_minor": 0,
              "model_id": "9695a720146d44318803097904f37b8f"
            }
          },
          "metadata": {}
        },
        {
          "output_type": "display_data",
          "data": {
            "text/plain": "Training epoch 18::   0%|          | 0/678 [00:00<?, ?it/s]",
            "application/vnd.jupyter.widget-view+json": {
              "version_major": 2,
              "version_minor": 0,
              "model_id": "187e82fd96234a25b7da0f251e8417e6"
            }
          },
          "metadata": {}
        },
        {
          "output_type": "display_data",
          "data": {
            "text/plain": "Training epoch 19::   0%|          | 0/678 [00:00<?, ?it/s]",
            "application/vnd.jupyter.widget-view+json": {
              "version_major": 2,
              "version_minor": 0,
              "model_id": "d23c8dd7b5ba427397bf28106335c4b9"
            }
          },
          "metadata": {}
        }
      ],
      "execution_count": 28
    },
    {
      "cell_type": "code",
      "source": "plt.plot(np.arange(len(losses2)), losses2)\nplt.title('Losses')\nplt.xlabel(\"epoch\")\nplt.show()",
      "metadata": {
        "trusted": true,
        "execution": {
          "iopub.status.busy": "2025-10-02T21:06:05.806262Z",
          "iopub.execute_input": "2025-10-02T21:06:05.806545Z",
          "iopub.status.idle": "2025-10-02T21:06:06.006739Z",
          "shell.execute_reply.started": "2025-10-02T21:06:05.806527Z",
          "shell.execute_reply": "2025-10-02T21:06:06.006176Z"
        }
      },
      "outputs": [
        {
          "output_type": "display_data",
          "data": {
            "text/plain": "<Figure size 640x480 with 1 Axes>",
            "image/png": "[encoded data removed]"
          },
          "metadata": {}
        }
      ],
      "execution_count": 29
    },
    {
      "cell_type": "code",
      "source": "plt.plot(np.arange(len(perplexities2)), perplexities2)\nplt.title('Perplexity')\nplt.xlabel(\"epoch\")\nplt.show()",
      "metadata": {
        "trusted": true,
        "execution": {
          "iopub.status.busy": "2025-10-02T21:06:08.817184Z",
          "iopub.execute_input": "2025-10-02T21:06:08.817785Z",
          "iopub.status.idle": "2025-10-02T21:06:09.028556Z",
          "shell.execute_reply.started": "2025-10-02T21:06:08.817754Z",
          "shell.execute_reply": "2025-10-02T21:06:09.027962Z"
        }
      },
      "outputs": [
        {
          "output_type": "display_data",
          "data": {
            "text/plain": "<Figure size 640x480 with 1 Axes>",
            "image/png": "[encoded data removed]"
          },
          "metadata": {}
        }
      ],
      "execution_count": 30
    },
    {
      "cell_type": "markdown",
      "source": "\n**2) Видим, что модель GRU справилась чуть лучше, чем LSTM. Попробуем усовершенствовать GRU\n\n\n**Увеличим размер скрытого пространства** Таким образом модель сможет запомнить более сложные паттерны.\n**Добавим еще нормализацию**",
      "metadata": {}
    },
    {
      "cell_type": "code",
      "source": "class LanguageModel(nn.Module):\n    def __init__(self, hidden_dim: int, vocab_size: int):\n        super().__init__()\n        self.embedding = nn.Embedding(vocab_size, hidden_dim)\n        self.rnn = nn.GRU(hidden_dim, hidden_dim, batch_first=True)\n        self.layer_norm1 = nn.LayerNorm(hidden_dim)\n        self.linear = nn.Linear(hidden_dim, hidden_dim)\n        self.layer_norm2 = nn.LayerNorm(hidden_dim)\n        self.projection = nn.Linear(hidden_dim, vocab_size)\n\n        self.non_lin = nn.Tanh()\n        self.dropout = nn.Dropout(p = 0.1)\n\n    def forward(self, input_batch: torch.Tensor) -> torch.Tensor:\n        embeddings = self.embedding(input_batch)\n        output, _ = self.rnn(embeddings)\n\n        output = self.layer_norm1(output)\n        output = self.non_lin(output)\n        output = self.linear(output)\n        output = self.dropout(output)\n    \n        output = self.layer_norm2(output)\n        output = self.non_lin(output)\n        projection = self.projection(output)\n    \n        return projection",
      "metadata": {
        "id": "wkSE4jR1XzTg",
        "trusted": true,
        "execution": {
          "iopub.status.busy": "2025-10-02T20:41:21.495388Z",
          "iopub.execute_input": "2025-10-02T20:41:21.495930Z",
          "iopub.status.idle": "2025-10-02T20:41:21.502355Z",
          "shell.execute_reply.started": "2025-10-02T20:41:21.495907Z",
          "shell.execute_reply": "2025-10-02T20:41:21.501486Z"
        }
      },
      "outputs": [],
      "execution_count": 21
    },
    {
      "cell_type": "code",
      "source": "model1 = LanguageModel(hidden_dim=128, vocab_size=len(vocab)).to(device)\ncriterion1 = nn.CrossEntropyLoss(ignore_index=word2ind['<pad>'])\noptimizer1 = torch.optim.Adam(model1.parameters())",
      "metadata": {
        "trusted": true,
        "execution": {
          "iopub.status.busy": "2025-10-02T20:41:23.938472Z",
          "iopub.execute_input": "2025-10-02T20:41:23.938753Z",
          "iopub.status.idle": "2025-10-02T20:41:23.960679Z",
          "shell.execute_reply.started": "2025-10-02T20:41:23.938730Z",
          "shell.execute_reply": "2025-10-02T20:41:23.959938Z"
        }
      },
      "outputs": [],
      "execution_count": 22
    },
    {
      "cell_type": "code",
      "source": "losses1, perplexities1 = train_model(train_dataloader, model1, optimizer1, criterion1, 20)",
      "metadata": {
        "trusted": true,
        "execution": {
          "iopub.status.busy": "2025-10-02T20:41:25.785682Z",
          "iopub.execute_input": "2025-10-02T20:41:25.785946Z",
          "iopub.status.idle": "2025-10-02T20:50:34.075572Z",
          "shell.execute_reply.started": "2025-10-02T20:41:25.785924Z",
          "shell.execute_reply": "2025-10-02T20:50:34.074775Z"
        }
      },
      "outputs": [
        {
          "output_type": "display_data",
          "data": {
            "text/plain": "Training epoch 0::   0%|          | 0/678 [00:00<?, ?it/s]",
            "application/vnd.jupyter.widget-view+json": {
              "version_major": 2,
              "version_minor": 0,
              "model_id": "a344eb2c5f5b40218bbd8859a7b2dc02"
            }
          },
          "metadata": {}
        },
        {
          "output_type": "display_data",
          "data": {
            "text/plain": "Training epoch 1::   0%|          | 0/678 [00:00<?, ?it/s]",
            "application/vnd.jupyter.widget-view+json": {
              "version_major": 2,
              "version_minor": 0,
              "model_id": "9ff84ce7a2094e54ab267b4e700f140b"
            }
          },
          "metadata": {}
        },
        {
          "output_type": "display_data",
          "data": {
            "text/plain": "Training epoch 2::   0%|          | 0/678 [00:00<?, ?it/s]",
            "application/vnd.jupyter.widget-view+json": {
              "version_major": 2,
              "version_minor": 0,
              "model_id": "78baeb9f5f164ac29573991e398a9a01"
            }
          },
          "metadata": {}
        },
        {
          "output_type": "display_data",
          "data": {
            "text/plain": "Training epoch 3::   0%|          | 0/678 [00:00<?, ?it/s]",
            "application/vnd.jupyter.widget-view+json": {
              "version_major": 2,
              "version_minor": 0,
              "model_id": "1a975bbdb1eb47dfbdd77eeaa9863818"
            }
          },
          "metadata": {}
        },
        {
          "output_type": "display_data",
          "data": {
            "text/plain": "Training epoch 4::   0%|          | 0/678 [00:00<?, ?it/s]",
            "application/vnd.jupyter.widget-view+json": {
              "version_major": 2,
              "version_minor": 0,
              "model_id": "f12b3be9135344169a7bbc7af9c3e9e9"
            }
          },
          "metadata": {}
        },
        {
          "output_type": "display_data",
          "data": {
            "text/plain": "Training epoch 5::   0%|          | 0/678 [00:00<?, ?it/s]",
            "application/vnd.jupyter.widget-view+json": {
              "version_major": 2,
              "version_minor": 0,
              "model_id": "a9a670afb04f4e9c8183f725142c8d34"
            }
          },
          "metadata": {}
        },
        {
          "output_type": "display_data",
          "data": {
            "text/plain": "Training epoch 6::   0%|          | 0/678 [00:00<?, ?it/s]",
            "application/vnd.jupyter.widget-view+json": {
              "version_major": 2,
              "version_minor": 0,
              "model_id": "bda26dab27ec41038c6d8b91901f7d42"
            }
          },
          "metadata": {}
        },
        {
          "output_type": "display_data",
          "data": {
            "text/plain": "Training epoch 7::   0%|          | 0/678 [00:00<?, ?it/s]",
            "application/vnd.jupyter.widget-view+json": {
              "version_major": 2,
              "version_minor": 0,
              "model_id": "3a157bd072204fa1acc391949f7a4eb9"
            }
          },
          "metadata": {}
        },
        {
          "output_type": "display_data",
          "data": {
            "text/plain": "Training epoch 8::   0%|          | 0/678 [00:00<?, ?it/s]",
            "application/vnd.jupyter.widget-view+json": {
              "version_major": 2,
              "version_minor": 0,
              "model_id": "8ed8e1ed0e1a484d95aaa5447897f39c"
            }
          },
          "metadata": {}
        },
        {
          "output_type": "display_data",
          "data": {
            "text/plain": "Training epoch 9::   0%|          | 0/678 [00:00<?, ?it/s]",
            "application/vnd.jupyter.widget-view+json": {
              "version_major": 2,
              "version_minor": 0,
              "model_id": "24a293ff014a4dbabf4a38fa7c6ca351"
            }
          },
          "metadata": {}
        },
        {
          "output_type": "display_data",
          "data": {
            "text/plain": "Training epoch 10::   0%|          | 0/678 [00:00<?, ?it/s]",
            "application/vnd.jupyter.widget-view+json": {
              "version_major": 2,
              "version_minor": 0,
              "model_id": "a4973fa8517f457bac75f223fc987fc4"
            }
          },
          "metadata": {}
        },
        {
          "output_type": "display_data",
          "data": {
            "text/plain": "Training epoch 11::   0%|          | 0/678 [00:00<?, ?it/s]",
            "application/vnd.jupyter.widget-view+json": {
              "version_major": 2,
              "version_minor": 0,
              "model_id": "d1b87f29b4714f7f8d880f522fec4f4a"
            }
          },
          "metadata": {}
        },
        {
          "output_type": "display_data",
          "data": {
            "text/plain": "Training epoch 12::   0%|          | 0/678 [00:00<?, ?it/s]",
            "application/vnd.jupyter.widget-view+json": {
              "version_major": 2,
              "version_minor": 0,
              "model_id": "ffcea7fa7fc44fbe879485d16a4b33f6"
            }
          },
          "metadata": {}
        },
        {
          "output_type": "display_data",
          "data": {
            "text/plain": "Training epoch 13::   0%|          | 0/678 [00:00<?, ?it/s]",
            "application/vnd.jupyter.widget-view+json": {
              "version_major": 2,
              "version_minor": 0,
              "model_id": "c968c19dfa654c1fa0a84ac9f8838b3a"
            }
          },
          "metadata": {}
        },
        {
          "output_type": "display_data",
          "data": {
            "text/plain": "Training epoch 14::   0%|          | 0/678 [00:00<?, ?it/s]",
            "application/vnd.jupyter.widget-view+json": {
              "version_major": 2,
              "version_minor": 0,
              "model_id": "2bdadf2bf72647c29d254ad1f629aa72"
            }
          },
          "metadata": {}
        },
        {
          "output_type": "display_data",
          "data": {
            "text/plain": "Training epoch 15::   0%|          | 0/678 [00:00<?, ?it/s]",
            "application/vnd.jupyter.widget-view+json": {
              "version_major": 2,
              "version_minor": 0,
              "model_id": "b87a1a001a524cf0a56185cd254c2046"
            }
          },
          "metadata": {}
        },
        {
          "output_type": "display_data",
          "data": {
            "text/plain": "Training epoch 16::   0%|          | 0/678 [00:00<?, ?it/s]",
            "application/vnd.jupyter.widget-view+json": {
              "version_major": 2,
              "version_minor": 0,
              "model_id": "dd9fe24def3b4cbd83b902e811d27536"
            }
          },
          "metadata": {}
        },
        {
          "output_type": "display_data",
          "data": {
            "text/plain": "Training epoch 17::   0%|          | 0/678 [00:00<?, ?it/s]",
            "application/vnd.jupyter.widget-view+json": {
              "version_major": 2,
              "version_minor": 0,
              "model_id": "1ba06e6f06014b4195867e4d181aee17"
            }
          },
          "metadata": {}
        },
        {
          "output_type": "display_data",
          "data": {
            "text/plain": "Training epoch 18::   0%|          | 0/678 [00:00<?, ?it/s]",
            "application/vnd.jupyter.widget-view+json": {
              "version_major": 2,
              "version_minor": 0,
              "model_id": "b86107e6e91e44bf890e6e2d6e7477e6"
            }
          },
          "metadata": {}
        },
        {
          "output_type": "display_data",
          "data": {
            "text/plain": "Training epoch 19::   0%|          | 0/678 [00:00<?, ?it/s]",
            "application/vnd.jupyter.widget-view+json": {
              "version_major": 2,
              "version_minor": 0,
              "model_id": "bda1f57328114b3f8548f10b063ce390"
            }
          },
          "metadata": {}
        }
      ],
      "execution_count": 23
    },
    {
      "cell_type": "code",
      "source": "plt.plot(np.arange(len(losses1)), losses1)\nplt.title('Losses')\nplt.xlabel(\"epoch\")\nplt.show()",
      "metadata": {
        "trusted": true,
        "execution": {
          "iopub.status.busy": "2025-10-02T20:52:04.181131Z",
          "iopub.execute_input": "2025-10-02T20:52:04.181832Z",
          "iopub.status.idle": "2025-10-02T20:52:04.674370Z",
          "shell.execute_reply.started": "2025-10-02T20:52:04.181806Z",
          "shell.execute_reply": "2025-10-02T20:52:04.673761Z"
        }
      },
      "outputs": [
        {
          "output_type": "display_data",
          "data": {
            "text/plain": "<Figure size 640x480 with 1 Axes>",
            "image/png": "[encoded data removed]"
          },
          "metadata": {}
        }
      ],
      "execution_count": 24
    },
    {
      "cell_type": "code",
      "source": "plt.plot(np.arange(len(perplexities1)), perplexities1)\nplt.title('Perplexity')\nplt.xlabel(\"epoch\")\nplt.show()",
      "metadata": {
        "trusted": true,
        "execution": {
          "iopub.status.busy": "2025-10-02T20:52:06.964201Z",
          "iopub.execute_input": "2025-10-02T20:52:06.964456Z",
          "iopub.status.idle": "2025-10-02T20:52:07.167952Z",
          "shell.execute_reply.started": "2025-10-02T20:52:06.964436Z",
          "shell.execute_reply": "2025-10-02T20:52:07.167224Z"
        }
      },
      "outputs": [
        {
          "output_type": "display_data",
          "data": {
            "text/plain": "<Figure size 640x480 with 1 Axes>",
            "image/png": "[encoded data removed]"
          },
          "metadata": {}
        }
      ],
      "execution_count": 25
    },
    {
      "cell_type": "markdown",
      "source": "Видим, что усовершенствованная модель справляется чуть лучше предыдущей. **Попробуем обучить LSTM и увеличить кол-во слоев, добавим Learning Rate Scheduling** ",
      "metadata": {}
    },
    {
      "cell_type": "code",
      "source": "class LanguageModel(nn.Module):\n    def __init__(self, hidden_dim: int, vocab_size: int):\n        super().__init__()\n        self.embedding = nn.Embedding(vocab_size, hidden_dim)\n        self.rnn = nn.LSTM(hidden_dim, hidden_dim, batch_first=True, num_layers =2)\n        self.linear = nn.Linear(hidden_dim, hidden_dim)\n        self.projection = nn.Linear(hidden_dim, vocab_size)\n\n        self.non_lin = nn.Tanh()\n        self.dropout = nn.Dropout(p = 0.1)\n\n    def forward(self, input_batch: torch.Tensor) -> torch.Tensor:\n        embeddings = self.embedding(input_batch)\n        output, _ = self.rnn(embeddings)\n        output = self.dropout(self.linear(self.non_lin(output)))\n        projection= self.projection(self.non_lin(output))\n\n        return projection",
      "metadata": {
        "trusted": true,
        "execution": {
          "iopub.status.busy": "2025-10-02T21:19:00.715724Z",
          "iopub.execute_input": "2025-10-02T21:19:00.715990Z",
          "iopub.status.idle": "2025-10-02T21:19:00.721594Z",
          "shell.execute_reply.started": "2025-10-02T21:19:00.715968Z",
          "shell.execute_reply": "2025-10-02T21:19:00.721062Z"
        }
      },
      "outputs": [],
      "execution_count": 33
    },
    {
      "cell_type": "code",
      "source": "def train_model(train_dataloader, model, optimizer, criterion, num_epoch, scheduler=None):\n    losses = []\n    perplexities = []\n\n    for epoch in range(num_epoch):\n        epoch_losses = []\n        model.train()\n        for batch in tqdm(train_dataloader, desc=f'Training epoch {epoch}:'):\n            optimizer.zero_grad()\n            logits = model(batch['input_ids'])\n            loss = criterion(logits.reshape(-1, logits.size(-1)), batch['target_ids'].reshape(-1))\n            loss.backward()\n            \n            # Градиентный клиппинг (рекомендуется добавить)\n            torch.nn.utils.clip_grad_norm_(model.parameters(), max_norm=1.0)\n            \n            optimizer.step()\n            epoch_losses.append(loss.item())\n\n        avg_loss = sum(epoch_losses) / len(epoch_losses)\n        losses.append(avg_loss)\n        \n       \n        perplexity = evaluate(model, criterion, eval_dataloader)\n        perplexities.append(perplexity)\n        \n        # SCHEDULER.STEP()\n        if scheduler is not None:\n            scheduler.step()\n            current_lr = scheduler.get_last_lr()[0]\n            print(f'Epoch {epoch}: Loss = {avg_loss:.4f}, Perplexity = {perplexity:.2f}, LR = {current_lr:.6f}')\n        else:\n            print(f'Epoch {epoch}: Loss = {avg_loss:.4f}, Perplexity = {perplexity:.2f}')\n        \n    return losses, perplexities",
      "metadata": {
        "trusted": true,
        "execution": {
          "iopub.status.busy": "2025-10-02T21:18:58.276876Z",
          "iopub.execute_input": "2025-10-02T21:18:58.277437Z",
          "iopub.status.idle": "2025-10-02T21:18:58.283824Z",
          "shell.execute_reply.started": "2025-10-02T21:18:58.277412Z",
          "shell.execute_reply": "2025-10-02T21:18:58.283068Z"
        }
      },
      "outputs": [],
      "execution_count": 32
    },
    {
      "cell_type": "code",
      "source": "model3 = LanguageModel(hidden_dim=128, vocab_size=len(vocab)).to(device)\ncriterion3 = nn.CrossEntropyLoss(ignore_index=word2ind['<pad>'])\noptimizer3 = torch.optim.AdamW(model3.parameters(), lr=0.001, weight_decay=0.01)\nscheduler3 = torch.optim.lr_scheduler.CosineAnnealingLR(optimizer, T_max=10)",
      "metadata": {
        "trusted": true,
        "execution": {
          "iopub.status.busy": "2025-10-02T21:19:03.716303Z",
          "iopub.execute_input": "2025-10-02T21:19:03.716537Z",
          "iopub.status.idle": "2025-10-02T21:19:03.738801Z",
          "shell.execute_reply.started": "2025-10-02T21:19:03.716519Z",
          "shell.execute_reply": "2025-10-02T21:19:03.738259Z"
        }
      },
      "outputs": [],
      "execution_count": 34
    },
    {
      "cell_type": "code",
      "source": "losses3, perplexities3 = train_model(train_dataloader, model3, optimizer3, criterion3, 20)",
      "metadata": {
        "trusted": true,
        "execution": {
          "iopub.status.busy": "2025-10-02T21:19:06.774609Z",
          "iopub.execute_input": "2025-10-02T21:19:06.775156Z",
          "iopub.status.idle": "2025-10-02T21:29:43.928190Z",
          "shell.execute_reply.started": "2025-10-02T21:19:06.775130Z",
          "shell.execute_reply": "2025-10-02T21:29:43.927584Z"
        }
      },
      "outputs": [
        {
          "output_type": "display_data",
          "data": {
            "text/plain": "Training epoch 0::   0%|          | 0/678 [00:00<?, ?it/s]",
            "application/vnd.jupyter.widget-view+json": {
              "version_major": 2,
              "version_minor": 0,
              "model_id": "6d2df32dfcb0446f919d1372c0c1ea66"
            }
          },
          "metadata": {}
        },
        {
          "name": "stdout",
          "text": "Epoch 0: Loss = 5.4116, Perplexity = 134.97\n",
          "output_type": "stream"
        },
        {
          "output_type": "display_data",
          "data": {
            "text/plain": "Training epoch 1::   0%|          | 0/678 [00:00<?, ?it/s]",
            "application/vnd.jupyter.widget-view+json": {
              "version_major": 2,
              "version_minor": 0,
              "model_id": "9a327dede20c4f949fe8af1d40f6ad8c"
            }
          },
          "metadata": {}
        },
        {
          "name": "stdout",
          "text": "Epoch 1: Loss = 4.6674, Perplexity = 91.93\n",
          "output_type": "stream"
        },
        {
          "output_type": "display_data",
          "data": {
            "text/plain": "Training epoch 2::   0%|          | 0/678 [00:00<?, ?it/s]",
            "application/vnd.jupyter.widget-view+json": {
              "version_major": 2,
              "version_minor": 0,
              "model_id": "3c627021d1db43089c1801b1f9595c42"
            }
          },
          "metadata": {}
        },
        {
          "name": "stdout",
          "text": "Epoch 2: Loss = 4.4295, Perplexity = 79.40\n",
          "output_type": "stream"
        },
        {
          "output_type": "display_data",
          "data": {
            "text/plain": "Training epoch 3::   0%|          | 0/678 [00:00<?, ?it/s]",
            "application/vnd.jupyter.widget-view+json": {
              "version_major": 2,
              "version_minor": 0,
              "model_id": "39ca5b07331946dc985bfdfaef906ad9"
            }
          },
          "metadata": {}
        },
        {
          "name": "stdout",
          "text": "Epoch 3: Loss = 4.3167, Perplexity = 73.54\n",
          "output_type": "stream"
        },
        {
          "output_type": "display_data",
          "data": {
            "text/plain": "Training epoch 4::   0%|          | 0/678 [00:00<?, ?it/s]",
            "application/vnd.jupyter.widget-view+json": {
              "version_major": 2,
              "version_minor": 0,
              "model_id": "d207338dfcd84f27894b17adb5679693"
            }
          },
          "metadata": {}
        },
        {
          "name": "stdout",
          "text": "Epoch 4: Loss = 4.2443, Perplexity = 69.68\n",
          "output_type": "stream"
        },
        {
          "output_type": "display_data",
          "data": {
            "text/plain": "Training epoch 5::   0%|          | 0/678 [00:00<?, ?it/s]",
            "application/vnd.jupyter.widget-view+json": {
              "version_major": 2,
              "version_minor": 0,
              "model_id": "bd1419877fe24172a4c49e0d4ad85f0a"
            }
          },
          "metadata": {}
        },
        {
          "name": "stdout",
          "text": "Epoch 5: Loss = 4.1906, Perplexity = 67.01\n",
          "output_type": "stream"
        },
        {
          "output_type": "display_data",
          "data": {
            "text/plain": "Training epoch 6::   0%|          | 0/678 [00:00<?, ?it/s]",
            "application/vnd.jupyter.widget-view+json": {
              "version_major": 2,
              "version_minor": 0,
              "model_id": "97f7702962c94e2ebc1d462e39c98f5d"
            }
          },
          "metadata": {}
        },
        {
          "name": "stdout",
          "text": "Epoch 6: Loss = 4.1476, Perplexity = 64.80\n",
          "output_type": "stream"
        },
        {
          "output_type": "display_data",
          "data": {
            "text/plain": "Training epoch 7::   0%|          | 0/678 [00:00<?, ?it/s]",
            "application/vnd.jupyter.widget-view+json": {
              "version_major": 2,
              "version_minor": 0,
              "model_id": "88a923c6ae544e299819364dc402e82d"
            }
          },
          "metadata": {}
        },
        {
          "name": "stdout",
          "text": "Epoch 7: Loss = 4.1113, Perplexity = 63.26\n",
          "output_type": "stream"
        },
        {
          "output_type": "display_data",
          "data": {
            "text/plain": "Training epoch 8::   0%|          | 0/678 [00:00<?, ?it/s]",
            "application/vnd.jupyter.widget-view+json": {
              "version_major": 2,
              "version_minor": 0,
              "model_id": "be0d1c2acf4d4bd7994363d51cf08d93"
            }
          },
          "metadata": {}
        },
        {
          "name": "stdout",
          "text": "Epoch 8: Loss = 4.0805, Perplexity = 61.83\n",
          "output_type": "stream"
        },
        {
          "output_type": "display_data",
          "data": {
            "text/plain": "Training epoch 9::   0%|          | 0/678 [00:00<?, ?it/s]",
            "application/vnd.jupyter.widget-view+json": {
              "version_major": 2,
              "version_minor": 0,
              "model_id": "32535e44ae0f4a61b9a7e69b667e2e77"
            }
          },
          "metadata": {}
        },
        {
          "name": "stdout",
          "text": "Epoch 9: Loss = 4.0530, Perplexity = 60.60\n",
          "output_type": "stream"
        },
        {
          "output_type": "display_data",
          "data": {
            "text/plain": "Training epoch 10::   0%|          | 0/678 [00:00<?, ?it/s]",
            "application/vnd.jupyter.widget-view+json": {
              "version_major": 2,
              "version_minor": 0,
              "model_id": "37e4883c7fd945e5b3555dca3d68b9b3"
            }
          },
          "metadata": {}
        },
        {
          "name": "stdout",
          "text": "Epoch 10: Loss = 4.0288, Perplexity = 59.64\n",
          "output_type": "stream"
        },
        {
          "output_type": "display_data",
          "data": {
            "text/plain": "Training epoch 11::   0%|          | 0/678 [00:00<?, ?it/s]",
            "application/vnd.jupyter.widget-view+json": {
              "version_major": 2,
              "version_minor": 0,
              "model_id": "03b1a68226a24a0db0e188e858fb28ff"
            }
          },
          "metadata": {}
        },
        {
          "name": "stdout",
          "text": "Epoch 11: Loss = 4.0068, Perplexity = 58.80\n",
          "output_type": "stream"
        },
        {
          "output_type": "display_data",
          "data": {
            "text/plain": "Training epoch 12::   0%|          | 0/678 [00:00<?, ?it/s]",
            "application/vnd.jupyter.widget-view+json": {
              "version_major": 2,
              "version_minor": 0,
              "model_id": "9e809a2e07f542ff8db2e990d13d9fb3"
            }
          },
          "metadata": {}
        },
        {
          "name": "stdout",
          "text": "Epoch 12: Loss = 3.9871, Perplexity = 58.08\n",
          "output_type": "stream"
        },
        {
          "output_type": "display_data",
          "data": {
            "text/plain": "Training epoch 13::   0%|          | 0/678 [00:00<?, ?it/s]",
            "application/vnd.jupyter.widget-view+json": {
              "version_major": 2,
              "version_minor": 0,
              "model_id": "06097afe6e4a43fb89db168fde1521c6"
            }
          },
          "metadata": {}
        },
        {
          "name": "stdout",
          "text": "Epoch 13: Loss = 3.9687, Perplexity = 57.41\n",
          "output_type": "stream"
        },
        {
          "output_type": "display_data",
          "data": {
            "text/plain": "Training epoch 14::   0%|          | 0/678 [00:00<?, ?it/s]",
            "application/vnd.jupyter.widget-view+json": {
              "version_major": 2,
              "version_minor": 0,
              "model_id": "47ca3d18d7ea4477bc3ea5c4f26546e2"
            }
          },
          "metadata": {}
        },
        {
          "name": "stdout",
          "text": "Epoch 14: Loss = 3.9520, Perplexity = 56.87\n",
          "output_type": "stream"
        },
        {
          "output_type": "display_data",
          "data": {
            "text/plain": "Training epoch 15::   0%|          | 0/678 [00:00<?, ?it/s]",
            "application/vnd.jupyter.widget-view+json": {
              "version_major": 2,
              "version_minor": 0,
              "model_id": "f2a70bc68b074c40904d88b510ccb8c9"
            }
          },
          "metadata": {}
        },
        {
          "name": "stdout",
          "text": "Epoch 15: Loss = 3.9365, Perplexity = 56.45\n",
          "output_type": "stream"
        },
        {
          "output_type": "display_data",
          "data": {
            "text/plain": "Training epoch 16::   0%|          | 0/678 [00:00<?, ?it/s]",
            "application/vnd.jupyter.widget-view+json": {
              "version_major": 2,
              "version_minor": 0,
              "model_id": "c17cf17580c245c8bb832ada9be0f16b"
            }
          },
          "metadata": {}
        },
        {
          "name": "stdout",
          "text": "Epoch 16: Loss = 3.9215, Perplexity = 55.92\n",
          "output_type": "stream"
        },
        {
          "output_type": "display_data",
          "data": {
            "text/plain": "Training epoch 17::   0%|          | 0/678 [00:00<?, ?it/s]",
            "application/vnd.jupyter.widget-view+json": {
              "version_major": 2,
              "version_minor": 0,
              "model_id": "8974d9fb7b1f4126b9905094fce7dda4"
            }
          },
          "metadata": {}
        },
        {
          "name": "stdout",
          "text": "Epoch 17: Loss = 3.9081, Perplexity = 55.57\n",
          "output_type": "stream"
        },
        {
          "output_type": "display_data",
          "data": {
            "text/plain": "Training epoch 18::   0%|          | 0/678 [00:00<?, ?it/s]",
            "application/vnd.jupyter.widget-view+json": {
              "version_major": 2,
              "version_minor": 0,
              "model_id": "c73551fbfba2459d8c5b3cd6b2cb5bcb"
            }
          },
          "metadata": {}
        },
        {
          "name": "stdout",
          "text": "Epoch 18: Loss = 3.8955, Perplexity = 55.27\n",
          "output_type": "stream"
        },
        {
          "output_type": "display_data",
          "data": {
            "text/plain": "Training epoch 19::   0%|          | 0/678 [00:00<?, ?it/s]",
            "application/vnd.jupyter.widget-view+json": {
              "version_major": 2,
              "version_minor": 0,
              "model_id": "49ec334f2986460c8ee738c1d14e26fd"
            }
          },
          "metadata": {}
        },
        {
          "name": "stdout",
          "text": "Epoch 19: Loss = 3.8833, Perplexity = 55.00\n",
          "output_type": "stream"
        }
      ],
      "execution_count": 35
    },
    {
      "cell_type": "code",
      "source": "plt.plot(np.arange(len(losses2)), losses2)\nplt.title('Losses')\nplt.xlabel(\"epoch\")\nplt.show()",
      "metadata": {
        "trusted": true,
        "execution": {
          "iopub.status.busy": "2025-10-02T21:31:02.195837Z",
          "iopub.execute_input": "2025-10-02T21:31:02.196173Z",
          "iopub.status.idle": "2025-10-02T21:31:02.403384Z",
          "shell.execute_reply.started": "2025-10-02T21:31:02.196151Z",
          "shell.execute_reply": "2025-10-02T21:31:02.402716Z"
        }
      },
      "outputs": [
        {
          "output_type": "display_data",
          "data": {
            "text/plain": "<Figure size 640x480 with 1 Axes>",
            "image/png": "[encoded data removed]"
          },
          "metadata": {}
        }
      ],
      "execution_count": 36
    },
    {
      "cell_type": "code",
      "source": "plt.plot(np.arange(len(perplexities1)), perplexities1)\nplt.title('Perplexity')\nplt.xlabel(\"epoch\")\nplt.show()",
      "metadata": {
        "trusted": true,
        "execution": {
          "iopub.status.busy": "2025-10-02T21:31:16.314326Z",
          "iopub.execute_input": "2025-10-02T21:31:16.314829Z",
          "iopub.status.idle": "2025-10-02T21:31:16.520175Z",
          "shell.execute_reply.started": "2025-10-02T21:31:16.314807Z",
          "shell.execute_reply": "2025-10-02T21:31:16.519523Z"
        }
      },
      "outputs": [
        {
          "output_type": "display_data",
          "data": {
            "text/plain": "<Figure size 640x480 with 1 Axes>",
            "image/png": "[encoded data removed]"
          },
          "metadata": {}
        }
      ],
      "execution_count": 37
    },
    {
      "cell_type": "markdown",
      "source": "### Отчет (2 балла)\n\nОпишите проведенные эксперименты. Сравните перплексии полученных моделей. Предложите идеи по улучшению качества моделей.",
      "metadata": {
        "id": "Y5V9H3eoFeAu"
      }
    },
    {
      "cell_type": "code",
      "source": "import pandas as pd\nfrom datetime import datetime\n\n# Функция для вычисления тестовой перплексии\ndef calculate_test_perplexity(model, test_dataloader, criterion):\n    \"\"\"Вычисляет перплексию на тестовом наборе\"\"\"\n    model.eval()\n    total_loss = 0\n    total_batches = 0\n    \n    with torch.no_grad():\n        for batch in tqdm(test_dataloader, desc=\"Calculating test perplexity\"):\n            logits = model(batch['input_ids'])\n            loss = criterion(\n                logits.reshape(-1, logits.size(-1)),\n                batch['target_ids'].reshape(-1)\n            )\n            total_loss += loss.item()\n            total_batches += 1\n    \n    avg_loss = total_loss / total_batches\n    perplexity = torch.exp(torch.tensor(avg_loss)).item()\n    return perplexity",
      "metadata": {
        "trusted": true,
        "execution": {
          "iopub.status.busy": "2025-10-02T22:00:59.979109Z",
          "iopub.execute_input": "2025-10-02T22:00:59.979790Z",
          "iopub.status.idle": "2025-10-02T22:00:59.984601Z",
          "shell.execute_reply.started": "2025-10-02T22:00:59.979759Z",
          "shell.execute_reply": "2025-10-02T22:00:59.984047Z"
        }
      },
      "outputs": [],
      "execution_count": 45
    },
    {
      "cell_type": "code",
      "source": "import pandas as pd\nfrom datetime import datetime\n\nresults_df = pd.DataFrame(columns=[\n    'experiment_name', \n    'model_type',           # LSTM/GRU\n    'num_layers',           # количество слоев\n    'learning_rate',        # скорость обучения\n    'optimizer',            # оптимизатор\n    'num_epochs',           # количество эпох\n    'final_train_loss',     # финальный loss на обучении\n    'final_val_perplexity', # финальная perplexity на валидации\n])\n\n\nresults_df = pd.concat([results_df, pd.DataFrame({\n    'experiment_name': [\"LSTM(1 layer)\"],\n    'model_type': [\"LSTM\"],\n    'num_layers': [1],\n    'learning_rate': [0.001],\n    'optimizer': ['Adam'],\n    'num_epochs': [20],\n'final_train_loss': [losses[-1]],  # последнее значение из твоего обучения\n    'final_val_perplexity': [perplexities[-1]]  # последнее значение\n})], ignore_index=True)\n\nresults_df = pd.concat([results_df, pd.DataFrame({\n    'experiment_name': [\"GRU\"],\n    'model_type': [\"GRU\"], \n    'num_layers': [1],\n    'learning_rate': [0.001],\n    'optimizer': ['Adam'],\n    'num_epochs': [20],\n    'final_train_loss': [losses2[-1]],  # последнее значение из твоего обучения\n    'final_val_perplexity': [perplexities2[-1]]  # последнее значение\n})], ignore_index=True)\n\nresults_df = pd.concat([results_df, pd.DataFrame({\n    'experiment_name': [\"GRU + normalization\"],\n    'model_type': [\"GRU\"],\n    'num_layers': [1],\n    'learning_rate': [0.001],\n    'optimizer': ['Adam'],\n    'num_epochs': [20],\n    'final_train_loss': [losses1[-1]],  # последнее значение\n    'final_val_perplexity': [perplexities1[-1]]  # последнее значение\n})], ignore_index=True)\n\nresults_df = pd.concat([results_df, pd.DataFrame({\n    'experiment_name': [\"LSTM(2 layers)\"],\n    'model_type': [\"LSTM\"],\n    'num_layers': [2],\n    'learning_rate': [0.001],\n    'optimizer': ['AdamW + CosineAnnealingLR'],\n    'num_epochs': [20],\n    'final_train_loss': [losses3[-1]],  # последнее значение\n    'final_val_perplexity': [perplexities3[-1]]  # последнее значение\n})], ignore_index=True)\n\n\nprint(\"ТАБЛИЦА РЕЗУЛЬТАТОВ ЭКСПЕРИМЕНТОВ\")\ndisplay(results_df)\n\n\nresults_df.to_csv('experiments_results.csv', index=False)",
      "metadata": {
        "trusted": true,
        "execution": {
          "iopub.status.busy": "2025-10-02T22:01:37.742612Z",
          "iopub.execute_input": "2025-10-02T22:01:37.743231Z",
          "iopub.status.idle": "2025-10-02T22:01:37.764578Z",
          "shell.execute_reply.started": "2025-10-02T22:01:37.743206Z",
          "shell.execute_reply": "2025-10-02T22:01:37.763955Z"
        }
      },
      "outputs": [
        {
          "name": "stdout",
          "text": "ТАБЛИЦА РЕЗУЛЬТАТОВ ЭКСПЕРИМЕНТОВ\n",
          "output_type": "stream"
        },
        {
          "name": "stderr",
          "text": "/tmp/ipykernel_36/3441613396.py:16: FutureWarning: The behavior of DataFrame concatenation with empty or all-NA entries is deprecated. In a future version, this will no longer exclude empty or all-NA columns when determining the result dtypes. To retain the old behavior, exclude the relevant entries before the concat operation.\n  results_df = pd.concat([results_df, pd.DataFrame({\n",
          "output_type": "stream"
        },
        {
          "output_type": "display_data",
          "data": {
            "text/plain": "       experiment_name model_type num_layers  learning_rate  \\\n0        LSTM(1 layer)       LSTM          1          0.001   \n1                  GRU        GRU          1          0.001   \n2  GRU + normalization        GRU          1          0.001   \n3       LSTM(2 layers)       LSTM          2          0.001   \n\n                   optimizer num_epochs  final_train_loss  \\\n0                       Adam         20          4.059068   \n1                       Adam         20          3.861833   \n2                       Adam         20          3.790238   \n3  AdamW + CosineAnnealingLR         20          3.883254   \n\n   final_val_perplexity  \n0             60.250249  \n1             55.927577  \n2             55.359839  \n3             55.004611  ",
            "text/html": "<div>\n<style scoped>\n    .dataframe tbody tr th:only-of-type {\n        vertical-align: middle;\n    }\n\n    .dataframe tbody tr th {\n        vertical-align: top;\n    }\n\n    .dataframe thead th {\n        text-align: right;\n    }\n</style>\n<table border=\"1\" class=\"dataframe\">\n  <thead>\n    <tr style=\"text-align: right;\">\n      <th></th>\n      <th>experiment_name</th>\n      <th>model_type</th>\n      <th>num_layers</th>\n      <th>learning_rate</th>\n      <th>optimizer</th>\n      <th>num_epochs</th>\n      <th>final_train_loss</th>\n      <th>final_val_perplexity</th>\n    </tr>\n  </thead>\n  <tbody>\n    <tr>\n      <th>0</th>\n      <td>LSTM(1 layer)</td>\n      <td>LSTM</td>\n      <td>1</td>\n      <td>0.001</td>\n      <td>Adam</td>\n      <td>20</td>\n      <td>4.059068</td>\n      <td>60.250249</td>\n    </tr>\n    <tr>\n      <th>1</th>\n      <td>GRU</td>\n      <td>GRU</td>\n      <td>1</td>\n      <td>0.001</td>\n      <td>Adam</td>\n      <td>20</td>\n      <td>3.861833</td>\n      <td>55.927577</td>\n    </tr>\n    <tr>\n      <th>2</th>\n      <td>GRU + normalization</td>\n      <td>GRU</td>\n      <td>1</td>\n      <td>0.001</td>\n      <td>Adam</td>\n      <td>20</td>\n      <td>3.790238</td>\n      <td>55.359839</td>\n    </tr>\n    <tr>\n      <th>3</th>\n      <td>LSTM(2 layers)</td>\n      <td>LSTM</td>\n      <td>2</td>\n      <td>0.001</td>\n      <td>AdamW + CosineAnnealingLR</td>\n      <td>20</td>\n      <td>3.883254</td>\n      <td>55.004611</td>\n    </tr>\n  </tbody>\n</table>\n</div>"
          },
          "metadata": {}
        }
      ],
      "execution_count": 47
    },
    {
      "cell_type": "markdown",
      "source": "1) Видим, что многослойность улучшила качество в случае LSTM(Двухслойный LSTM немного превосходит однослойный GRU)\n2)  Нормализация дает небольшое, но стабильное улучшение\n",
      "metadata": {}
    },
    {
      "cell_type": "markdown",
      "source": "\nСреди данных экспериментов лучшая архитектура **лучшая архитектура: LSTM(2 layers)**\n- Perplexity: 55.00 - лучший результат\n- AdamW + CosineAnnealingLR - эффективная комбинация\n- Два слоя дают преимущество без сильного усложнения",
      "metadata": {}
    }
  ]
}